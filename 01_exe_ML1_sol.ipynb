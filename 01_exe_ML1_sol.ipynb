{
 "cells": [
  {
   "cell_type": "code",
   "execution_count": 1,
   "metadata": {
    "vscode": {
     "languageId": "r"
    }
   },
   "outputs": [
    {
     "name": "stderr",
     "output_type": "stream",
     "text": [
      "\n",
      "Attaching package: 'dplyr'\n",
      "\n",
      "\n",
      "The following objects are masked from 'package:stats':\n",
      "\n",
      "    filter, lag\n",
      "\n",
      "\n",
      "The following objects are masked from 'package:base':\n",
      "\n",
      "    intersect, setdiff, setequal, union\n",
      "\n",
      "\n"
     ]
    }
   ],
   "source": [
    "# check if packages can be loaded, i.e. they are already installed\n",
    "library(dplyr)\n",
    "library(mdsr)"
   ]
  },
  {
   "cell_type": "markdown",
   "metadata": {},
   "source": [
    "## K-Means in R"
   ]
  },
  {
   "cell_type": "markdown",
   "metadata": {},
   "source": [
    "2.1"
   ]
  },
  {
   "cell_type": "code",
   "execution_count": 7,
   "metadata": {
    "vscode": {
     "languageId": "r"
    }
   },
   "outputs": [
    {
     "data": {
      "image/png": "[encoded data removed]",
      "text/plain": [
       "plot without title"
      ]
     },
     "metadata": {
      "image/png": {
       "height": 420,
       "width": 420
      }
     },
     "output_type": "display_data"
    }
   ],
   "source": [
    "# data generation\n",
    "set.seed(1234567890)\n",
    "x <- matrix(rnorm(50*2), ncol=2)\n",
    "x[1:25,1] <- x[1:25,1] + 2\n",
    "x[1:25,2] <- x[1:25,2] - 2\n",
    "plot(x, pch = 16, asp = 1) # why `asp=1`? Check help for `plot()` to find out!"
   ]
  },
  {
   "cell_type": "code",
   "execution_count": 8,
   "metadata": {
    "vscode": {
     "languageId": "r"
    }
   },
   "outputs": [
    {
     "data": {
      "text/html": [
       "<style>\n",
       ".list-inline {list-style: none; margin:0; padding: 0}\n",
       ".list-inline>li {display: inline-block}\n",
       ".list-inline>li:not(:last-child)::after {content: \"\\00b7\"; padding: 0 .5ex}\n",
       "</style>\n",
       "<ol class=list-inline><li>2</li><li>2</li><li>2</li><li>2</li><li>2</li><li>2</li><li>2</li><li>2</li><li>2</li><li>2</li><li>1</li><li>2</li><li>2</li><li>2</li><li>2</li><li>2</li><li>2</li><li>2</li><li>2</li><li>2</li><li>2</li><li>1</li><li>2</li><li>2</li><li>2</li><li>1</li><li>1</li><li>2</li><li>2</li><li>1</li><li>2</li><li>1</li><li>1</li><li>1</li><li>1</li><li>1</li><li>1</li><li>1</li><li>2</li><li>1</li><li>1</li><li>1</li><li>1</li><li>1</li><li>1</li><li>1</li><li>1</li><li>1</li><li>1</li><li>1</li></ol>\n"
      ],
      "text/latex": [
       "\\begin{enumerate*}\n",
       "\\item 2\n",
       "\\item 2\n",
       "\\item 2\n",
       "\\item 2\n",
       "\\item 2\n",
       "\\item 2\n",
       "\\item 2\n",
       "\\item 2\n",
       "\\item 2\n",
       "\\item 2\n",
       "\\item 1\n",
       "\\item 2\n",
       "\\item 2\n",
       "\\item 2\n",
       "\\item 2\n",
       "\\item 2\n",
       "\\item 2\n",
       "\\item 2\n",
       "\\item 2\n",
       "\\item 2\n",
       "\\item 2\n",
       "\\item 1\n",
       "\\item 2\n",
       "\\item 2\n",
       "\\item 2\n",
       "\\item 1\n",
       "\\item 1\n",
       "\\item 2\n",
       "\\item 2\n",
       "\\item 1\n",
       "\\item 2\n",
       "\\item 1\n",
       "\\item 1\n",
       "\\item 1\n",
       "\\item 1\n",
       "\\item 1\n",
       "\\item 1\n",
       "\\item 1\n",
       "\\item 2\n",
       "\\item 1\n",
       "\\item 1\n",
       "\\item 1\n",
       "\\item 1\n",
       "\\item 1\n",
       "\\item 1\n",
       "\\item 1\n",
       "\\item 1\n",
       "\\item 1\n",
       "\\item 1\n",
       "\\item 1\n",
       "\\end{enumerate*}\n"
      ],
      "text/markdown": [
       "1. 2\n",
       "2. 2\n",
       "3. 2\n",
       "4. 2\n",
       "5. 2\n",
       "6. 2\n",
       "7. 2\n",
       "8. 2\n",
       "9. 2\n",
       "10. 2\n",
       "11. 1\n",
       "12. 2\n",
       "13. 2\n",
       "14. 2\n",
       "15. 2\n",
       "16. 2\n",
       "17. 2\n",
       "18. 2\n",
       "19. 2\n",
       "20. 2\n",
       "21. 2\n",
       "22. 1\n",
       "23. 2\n",
       "24. 2\n",
       "25. 2\n",
       "26. 1\n",
       "27. 1\n",
       "28. 2\n",
       "29. 2\n",
       "30. 1\n",
       "31. 2\n",
       "32. 1\n",
       "33. 1\n",
       "34. 1\n",
       "35. 1\n",
       "36. 1\n",
       "37. 1\n",
       "38. 1\n",
       "39. 2\n",
       "40. 1\n",
       "41. 1\n",
       "42. 1\n",
       "43. 1\n",
       "44. 1\n",
       "45. 1\n",
       "46. 1\n",
       "47. 1\n",
       "48. 1\n",
       "49. 1\n",
       "50. 1\n",
       "\n",
       "\n"
      ],
      "text/plain": [
       " [1] 2 2 2 2 2 2 2 2 2 2 1 2 2 2 2 2 2 2 2 2 2 1 2 2 2 1 1 2 2 1 2 1 1 1 1 1 1 1\n",
       "[39] 2 1 1 1 1 1 1 1 1 1 1 1"
      ]
     },
     "metadata": {},
     "output_type": "display_data"
    },
    {
     "data": {
      "text/html": [
       "<style>\n",
       ".list-inline {list-style: none; margin:0; padding: 0}\n",
       ".list-inline>li {display: inline-block}\n",
       ".list-inline>li:not(:last-child)::after {content: \"\\00b7\"; padding: 0 .5ex}\n",
       "</style>\n",
       "<ol class=list-inline><li>'cluster'</li><li>'centers'</li><li>'totss'</li><li>'withinss'</li><li>'tot.withinss'</li><li>'betweenss'</li><li>'size'</li><li>'iter'</li><li>'ifault'</li></ol>\n"
      ],
      "text/latex": [
       "\\begin{enumerate*}\n",
       "\\item 'cluster'\n",
       "\\item 'centers'\n",
       "\\item 'totss'\n",
       "\\item 'withinss'\n",
       "\\item 'tot.withinss'\n",
       "\\item 'betweenss'\n",
       "\\item 'size'\n",
       "\\item 'iter'\n",
       "\\item 'ifault'\n",
       "\\end{enumerate*}\n"
      ],
      "text/markdown": [
       "1. 'cluster'\n",
       "2. 'centers'\n",
       "3. 'totss'\n",
       "4. 'withinss'\n",
       "5. 'tot.withinss'\n",
       "6. 'betweenss'\n",
       "7. 'size'\n",
       "8. 'iter'\n",
       "9. 'ifault'\n",
       "\n",
       "\n"
      ],
      "text/plain": [
       "[1] \"cluster\"      \"centers\"      \"totss\"        \"withinss\"     \"tot.withinss\"\n",
       "[6] \"betweenss\"    \"size\"         \"iter\"         \"ifault\"      "
      ]
     },
     "metadata": {},
     "output_type": "display_data"
    },
    {
     "data": {
      "text/html": [
       "198.828313730785"
      ],
      "text/latex": [
       "198.828313730785"
      ],
      "text/markdown": [
       "198.828313730785"
      ],
      "text/plain": [
       "[1] 198.8283"
      ]
     },
     "metadata": {},
     "output_type": "display_data"
    },
    {
     "data": {
      "text/html": [
       "91.9139465311615"
      ],
      "text/latex": [
       "91.9139465311615"
      ],
      "text/markdown": [
       "91.9139465311615"
      ],
      "text/plain": [
       "[1] 91.91395"
      ]
     },
     "metadata": {},
     "output_type": "display_data"
    },
    {
     "data": {
      "text/html": [
       "<style>\n",
       ".list-inline {list-style: none; margin:0; padding: 0}\n",
       ".list-inline>li {display: inline-block}\n",
       ".list-inline>li:not(:last-child)::after {content: \"\\00b7\"; padding: 0 .5ex}\n",
       "</style>\n",
       "<ol class=list-inline><li>46.9183969517894</li><li>44.9955495793721</li></ol>\n"
      ],
      "text/latex": [
       "\\begin{enumerate*}\n",
       "\\item 46.9183969517894\n",
       "\\item 44.9955495793721\n",
       "\\end{enumerate*}\n"
      ],
      "text/markdown": [
       "1. 46.9183969517894\n",
       "2. 44.9955495793721\n",
       "\n",
       "\n"
      ],
      "text/plain": [
       "[1] 46.91840 44.99555"
      ]
     },
     "metadata": {},
     "output_type": "display_data"
    },
    {
     "data": {
      "text/html": [
       "<table class=\"dataframe\">\n",
       "<caption>A matrix: 2 × 2 of type dbl</caption>\n",
       "<tbody>\n",
       "\t<tr><th scope=row>1</th><td>0.06435052</td><td> 0.3460184</td></tr>\n",
       "\t<tr><th scope=row>2</th><td>2.22817109</td><td>-1.6354262</td></tr>\n",
       "</tbody>\n",
       "</table>\n"
      ],
      "text/latex": [
       "A matrix: 2 × 2 of type dbl\n",
       "\\begin{tabular}{r|ll}\n",
       "\t1 & 0.06435052 &  0.3460184\\\\\n",
       "\t2 & 2.22817109 & -1.6354262\\\\\n",
       "\\end{tabular}\n"
      ],
      "text/markdown": [
       "\n",
       "A matrix: 2 × 2 of type dbl\n",
       "\n",
       "| 1 | 0.06435052 |  0.3460184 |\n",
       "| 2 | 2.22817109 | -1.6354262 |\n",
       "\n"
      ],
      "text/plain": [
       "  [,1]       [,2]      \n",
       "1 0.06435052  0.3460184\n",
       "2 2.22817109 -1.6354262"
      ]
     },
     "metadata": {},
     "output_type": "display_data"
    },
    {
     "data": {
      "image/png": "[encoded data removed]",
      "text/plain": [
       "plot without title"
      ]
     },
     "metadata": {
      "image/png": {
       "height": 420,
       "width": 420
      }
     },
     "output_type": "display_data"
    }
   ],
   "source": [
    "# run with two clusters:\n",
    "km.out <- kmeans(x, centers = 2, nstart = 1)\n",
    "km.out$cluster # a vector specifying which cluster\n",
    "# each row (=observation) belongs to\n",
    "names(km.out) # all the different elements of the kmeans output\n",
    "km.out$totss # the sum of squares without clustering\n",
    "km.out$tot.withinss # the sum of squares with this clustering\n",
    "km.out$withinss # the sum of squares within each cluster\n",
    "km.out$centers # matrix with the center coordinates\n",
    "plot(x, col = km.out$cluster, pch = 16, asp = 1) # plot points coloured by cluster\n",
    "points(km.out$centers, col=1:2, pch=3, cex = 2) # add the cluster centers"
   ]
  },
  {
   "cell_type": "code",
   "execution_count": 9,
   "metadata": {
    "vscode": {
     "languageId": "r"
    }
   },
   "outputs": [
    {
     "data": {
      "text/html": [
       "91.9139465311615"
      ],
      "text/latex": [
       "91.9139465311615"
      ],
      "text/markdown": [
       "91.9139465311615"
      ],
      "text/plain": [
       "[1] 91.91395"
      ]
     },
     "metadata": {},
     "output_type": "display_data"
    },
    {
     "data": {
      "image/png": "[encoded data removed]",
      "text/plain": [
       "plot without title"
      ]
     },
     "metadata": {
      "image/png": {
       "height": 420,
       "width": 420
      }
     },
     "output_type": "display_data"
    }
   ],
   "source": [
    "# clustering\n",
    "km.out <- kmeans(x, centers = 2, nstart = 20)\n",
    "# visualisation\n",
    "plot(x, col = km.out$cluster, pch = 16, asp = 1)\n",
    "points(km.out$centers, col=1:2, pch=3, cex = 2)\n",
    "# stats\n",
    "km.out$tot.withinss"
   ]
  },
  {
   "cell_type": "code",
   "execution_count": 10,
   "metadata": {
    "vscode": {
     "languageId": "r"
    }
   },
   "outputs": [
    {
     "data": {
      "text/html": [
       "68.2765439209228"
      ],
      "text/latex": [
       "68.2765439209228"
      ],
      "text/markdown": [
       "68.2765439209228"
      ],
      "text/plain": [
       "[1] 68.27654"
      ]
     },
     "metadata": {},
     "output_type": "display_data"
    },
    {
     "data": {
      "image/png": "[encoded data removed]",
      "text/plain": [
       "plot without title"
      ]
     },
     "metadata": {
      "image/png": {
       "height": 420,
       "width": 420
      }
     },
     "output_type": "display_data"
    },
    {
     "data": {
      "text/html": [
       "52.9439836724938"
      ],
      "text/latex": [
       "52.9439836724938"
      ],
      "text/markdown": [
       "52.9439836724938"
      ],
      "text/plain": [
       "[1] 52.94398"
      ]
     },
     "metadata": {},
     "output_type": "display_data"
    },
    {
     "data": {
      "image/png": "[encoded data removed]",
      "text/plain": [
       "plot without title"
      ]
     },
     "metadata": {
      "image/png": {
       "height": 420,
       "width": 420
      }
     },
     "output_type": "display_data"
    }
   ],
   "source": [
    "set.seed(4)\n",
    "# 3 clusters\n",
    "km.out <- kmeans(x, centers = 3, nstart = 20)\n",
    "plot(x, col = km.out$cluster, pch = 16, asp = 1)\n",
    "km.out$tot.withinss\n",
    "# 4 clusters\n",
    "km.out <- kmeans(x, centers = 4, nstart = 20)\n",
    "plot(x, col = km.out$cluster, pch = 16, asp = 1)\n",
    "km.out$tot.withinss"
   ]
  },
  {
   "cell_type": "code",
   "execution_count": 11,
   "metadata": {
    "vscode": {
     "languageId": "r"
    }
   },
   "outputs": [
    {
     "data": {
      "image/png": "[encoded data removed]",
      "text/plain": [
       "plot without title"
      ]
     },
     "metadata": {
      "image/png": {
       "height": 420,
       "width": 420
      }
     },
     "output_type": "display_data"
    }
   ],
   "source": [
    "# data generation\n",
    "x <- matrix(rnorm(50*3), ncol = 2)\n",
    "x[1:25, 1] <- x[1:25, 1] + 2\n",
    "x[1:25, 2] <- x[1:25, 2] - 2\n",
    "x[50+1:25, 1] <- x[50 + 1:25, 1] + 2\n",
    "x[50+1:25, 2] <- x[50 + 1:25, 2] + 2\n",
    "# clustering\n",
    "km.out <- kmeans(x, 3, nstart = 20)\n",
    "# visualisation\n",
    "plot(x, col = km.out$cluster, pch = 16, asp = 1)\n",
    "points(km.out$centers, col = 1:3, pch = 3, cex = 2)"
   ]
  },
  {
   "cell_type": "markdown",
   "metadata": {},
   "source": [
    "2.2"
   ]
  },
  {
   "cell_type": "code",
   "execution_count": 12,
   "metadata": {
    "vscode": {
     "languageId": "r"
    }
   },
   "outputs": [],
   "source": [
    "# load packages\n",
    "library(dplyr) # we will use this for easier data handling\n",
    "library(mdsr) # contains the data set we want to work with"
   ]
  },
  {
   "cell_type": "code",
   "execution_count": 13,
   "metadata": {
    "vscode": {
     "languageId": "r"
    }
   },
   "outputs": [],
   "source": [
    "data(\"world_cities\")"
   ]
  },
  {
   "cell_type": "code",
   "execution_count": 14,
   "metadata": {
    "vscode": {
     "languageId": "r"
    }
   },
   "outputs": [
    {
     "name": "stdout",
     "output_type": "stream",
     "text": [
      "tibble [4,428 × 9] (S3: tbl_df/tbl/data.frame)\n",
      " $ geoname_id       : num [1:4428] 291074 292223 292672 292932 292968 ...\n",
      " $ name             : chr [1:4428] \"Ras Al Khaimah City\" \"Dubai\" \"Sharjah\" \"Ajman City\" ...\n",
      " $ latitude         : num [1:4428] 25.8 25.1 25.3 25.4 24.5 ...\n",
      " $ longitude        : num [1:4428] 55.9 55.3 55.4 55.5 54.4 ...\n",
      " $ country          : chr [1:4428] \"AE\" \"AE\" \"AE\" \"AE\" ...\n",
      " $ country_region   : chr [1:4428] \"05\" \"03\" \"06\" \"02\" ...\n",
      " $ population       : num [1:4428] 351943 2956587 1324473 490035 603492 ...\n",
      " $ timezone         : chr [1:4428] \"Asia/Dubai\" \"Asia/Dubai\" \"Asia/Dubai\" \"Asia/Dubai\" ...\n",
      " $ modification_date: Date[1:4428], format: \"2019-09-09\" \"2019-08-28\" ...\n",
      " - attr(*, \"problems\")= tibble [1,001 × 5] (S3: tbl_df/tbl/data.frame)\n",
      "  ..$ row     : int [1:1001] 1154 2694 2742 7567 7567 7608 7608 7650 7650 7652 ...\n",
      "  ..$ col     : chr [1:1001] \"admin3_code\" \"admin4_code\" \"admin4_code\" \"admin3_code\" ...\n",
      "  ..$ expected: chr [1:1001] \"a double\" \"a double\" \"a double\" \"no trailing characters\" ...\n",
      "  ..$ actual  : chr [1:1001] \"BLG33-34\" \"CN\" \"LN\" \"B2\" ...\n",
      "  ..$ file    : chr [1:1001] \"'/tmp/RtmpHweL4x/cities15000/cities15000.txt'\" \"'/tmp/RtmpHweL4x/cities15000/cities15000.txt'\" \"'/tmp/RtmpHweL4x/cities15000/cities15000.txt'\" \"'/tmp/RtmpHweL4x/cities15000/cities15000.txt'\" ...\n"
     ]
    },
    {
     "data": {
      "text/plain": [
       "   geoname_id           name              latitude        longitude       \n",
       " Min.   :   14256   Length:4428        Min.   :-53.15   Min.   :-157.858  \n",
       " 1st Qu.: 1264492   Class :character   1st Qu.: 12.82   1st Qu.:  -6.906  \n",
       " Median : 1857552   Mode  :character   Median : 30.42   Median :  34.519  \n",
       " Mean   : 2413575                      Mean   : 24.85   Mean   :  30.248  \n",
       " 3rd Qu.: 3446636                      3rd Qu.: 40.61   3rd Qu.:  91.842  \n",
       " Max.   :12166273                      Max.   : 69.35   Max.   : 176.167  \n",
       "   country          country_region       population         timezone        \n",
       " Length:4428        Length:4428        Min.   :  100015   Length:4428       \n",
       " Class :character   Class :character   1st Qu.:  132187   Class :character  \n",
       " Mode  :character   Mode  :character   Median :  197102   Mode  :character  \n",
       "                                       Mean   :  459389                     \n",
       "                                       3rd Qu.:  374936                     \n",
       "                                       Max.   :22315474                     \n",
       " modification_date   \n",
       " Min.   :2006-01-17  \n",
       " 1st Qu.:2015-06-22  \n",
       " Median :2017-12-06  \n",
       " Mean   :2017-04-05  \n",
       " 3rd Qu.:2019-09-05  \n",
       " Max.   :2020-08-27  "
      ]
     },
     "metadata": {},
     "output_type": "display_data"
    }
   ],
   "source": [
    "# we learn about the data:\n",
    "# - dimension (= rows x columns)\n",
    "# - names and class of columns\n",
    "# - example for the first observations\n",
    "str(world_cities) # we see the dimension\n",
    "# summary statistics\n",
    "summary(world_cities)"
   ]
  },
  {
   "cell_type": "code",
   "execution_count": 15,
   "metadata": {
    "vscode": {
     "languageId": "r"
    }
   },
   "outputs": [],
   "source": [
    "big_cities <- world_cities %>%\n",
    "filter(population >= 200000) %>%\n",
    "select(longitude, latitude)\n"
   ]
  },
  {
   "cell_type": "code",
   "execution_count": 16,
   "metadata": {
    "vscode": {
     "languageId": "r"
    }
   },
   "outputs": [
    {
     "data": {
      "image/png": "[encoded data removed]",
      "text/plain": [
       "plot without title"
      ]
     },
     "metadata": {
      "image/png": {
       "height": 420,
       "width": 420
      }
     },
     "output_type": "display_data"
    }
   ],
   "source": [
    "# clustering\n",
    "cities_km <- kmeans(big_cities, centers = 7)\n",
    "# visualisation\n",
    "plot(big_cities, col = cities_km$cluster, pch = 16, asp = 1, cex = 0.3)\n",
    "points(cities_km$centers, col = 1:7, pch = 3, cex = 2)"
   ]
  },
  {
   "cell_type": "markdown",
   "metadata": {},
   "source": [
    "3 Written Exe"
   ]
  }
 ],
 "metadata": {
  "kernelspec": {
   "display_name": "R",
   "language": "R",
   "name": "ir"
  },
  "language_info": {
   "codemirror_mode": "r",
   "file_extension": ".r",
   "mimetype": "text/x-r-source",
   "name": "R",
   "pygments_lexer": "r",
   "version": "4.3.3"
  }
 },
 "nbformat": 4,
 "nbformat_minor": 2
}

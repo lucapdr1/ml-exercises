{
 "cells": [
  {
   "cell_type": "code",
   "execution_count": null,
   "metadata": {
    "vscode": {
     "languageId": "r"
    }
   },
   "outputs": [],
   "source": [
    "# check if packages can be loaded, i.e. they are already installed\n",
    "library(ISLR2)\n",
    "library(rpart)\n",
    "library(rpart.plot)\n",
    "library(randomForest) # what could it be? Hm?\n",
    "library(gbm) # Generalized Boosted Regression Modeling"
   ]
  },
  {
   "cell_type": "markdown",
   "metadata": {},
   "source": [
    "2 Bagging\n"
   ]
  },
  {
   "cell_type": "markdown",
   "metadata": {},
   "source": [
    "2.1 Bagging a regression tree by hand"
   ]
  },
  {
   "cell_type": "code",
   "execution_count": 1,
   "metadata": {
    "vscode": {
     "languageId": "r"
    }
   },
   "outputs": [
    {
     "ename": "ERROR",
     "evalue": "Error in parse(text = x, srcfile = src): <text>:7:10: unexpected ')'\n6: tree.boston <- rpart(medv ~ ., Boston, subset = train, cp = 0.019)\n7: print(???)\n            ^\n",
     "output_type": "error",
     "traceback": [
      "Error in parse(text = x, srcfile = src): <text>:7:10: unexpected ')'\n6: tree.boston <- rpart(medv ~ ., Boston, subset = train, cp = 0.019)\n7: print(???)\n            ^\nTraceback:\n"
     ]
    }
   ],
   "source": [
    "require(rpart)\n",
    "require(rpart.plot)\n",
    "set.seed(1)\n",
    "train <- sample(1:nrow(Boston), nrow(Boston)/2) # row numbers training data\n",
    "test <- (1:nrow(Boston))[-train]\n",
    "tree.boston <- rpart(medv ~ ., Boston, subset = train, cp = 0.019)\n",
    "print(???)\n",
    "rpart.plot(???)\n",
    "pred.train <- predict(???, newdata = Boston[train, ])\n",
    "mean((Boston$medv[train] - pred.train)^2)\n",
    "pred.test <- predict(???, newdata = Boston[test, ])\n",
    "mean((Boston$medv[test] - pred.test)^2)"
   ]
  },
  {
   "cell_type": "code",
   "execution_count": 2,
   "metadata": {
    "vscode": {
     "languageId": "r"
    }
   },
   "outputs": [
    {
     "ename": "ERROR",
     "evalue": "Error in parse(text = x, srcfile = src): <text>:3:49: unexpected symbol\n2: preds <- predict(tree.bag, newdata = Boston)\n3: inbagMSE <- mean((Boston$medv - preds)[bag.samp]ˆ2\n                                                   ^\n",
     "output_type": "error",
     "traceback": [
      "Error in parse(text = x, srcfile = src): <text>:3:49: unexpected symbol\n2: preds <- predict(tree.bag, newdata = Boston)\n3: inbagMSE <- mean((Boston$medv - preds)[bag.samp]ˆ2\n                                                   ^\nTraceback:\n"
     ]
    }
   ],
   "source": [
    "tree.bag <- rpart(medv ~ ., Boston, subset = bag.samp, cp = 0)\n",
    "preds <- predict(tree.bag, newdata = Boston)\n",
    "inbagMSE <- mean((Boston$medv - preds)[bag.samp]ˆ2)\n",
    "inbagMSE\n",
    "oobMSE <- mean((Boston$medv - preds)[oob.samp]ˆ2)\n",
    "oobMSE\n",
    "test.MSE <- mean((Boston$medv-preds)[test]ˆ2)\n",
    "test.MSE"
   ]
  },
  {
   "cell_type": "code",
   "execution_count": 3,
   "metadata": {
    "vscode": {
     "languageId": "r"
    }
   },
   "outputs": [
    {
     "ename": "ERROR",
     "evalue": "Error in parse(text = x, srcfile = src): <text>:4:14: unexpected ')'\n3: preds <- matrix(NA, nrow = nrow(Boston), ncol = B)\n4: for (i in ???)\n                ^\n",
     "output_type": "error",
     "traceback": [
      "Error in parse(text = x, srcfile = src): <text>:4:14: unexpected ')'\n3: preds <- matrix(NA, nrow = nrow(Boston), ncol = B)\n4: for (i in ???)\n                ^\nTraceback:\n"
     ]
    }
   ],
   "source": [
    "B <- ???\n",
    "inbagMSE <- oobMSE <- test.MSE <- rep(NA, B)\n",
    "preds <- matrix(NA, nrow = nrow(Boston), ncol = B)\n",
    "for (i in ???){\n",
    "bag.samp <- ???\n",
    "oob.samp <- ???\n",
    "tree.bag <- ???\n",
    "preds[,i] <- ???\n",
    "inbagMSE[i] <- ???\n",
    "oobMSE[i] <- ???\n",
    "test.MSE[i] <- ???\n",
    "}\n"
   ]
  },
  {
   "cell_type": "code",
   "execution_count": 4,
   "metadata": {
    "vscode": {
     "languageId": "r"
    }
   },
   "outputs": [
    {
     "ename": "ERROR",
     "evalue": "Error in eval(expr, envir, enclos): object 'inbagMSE' not found\n",
     "output_type": "error",
     "traceback": [
      "Error in eval(expr, envir, enclos): object 'inbagMSE' not found\nTraceback:\n",
      "1. plot(inbagMSE)"
     ]
    }
   ],
   "source": [
    "plot(inbagMSE)\n",
    "mean(inbagMSE)\n",
    "plot(oobMSE)\n",
    "mean(oobMSE)\n",
    "plot(test.MSE)\n",
    "mean(test.MSE)\n"
   ]
  },
  {
   "cell_type": "code",
   "execution_count": 5,
   "metadata": {
    "vscode": {
     "languageId": "r"
    }
   },
   "outputs": [
    {
     "ename": "ERROR",
     "evalue": "Error in eval(expr, envir, enclos): object 'preds' not found\n",
     "output_type": "error",
     "traceback": [
      "Error in eval(expr, envir, enclos): object 'preds' not found\nTraceback:\n",
      "1. apply(preds, 1, mean)"
     ]
    }
   ],
   "source": [
    "all.preds <- apply(preds, 1, mean)\n",
    "# calculate the bagged prediction MSE\n",
    "mean((Boston$medv[train] - all.preds[train])^2)\n",
    "mean((Boston$medv[test] - all.preds[test])^2)"
   ]
  },
  {
   "cell_type": "markdown",
   "metadata": {},
   "source": [
    "2.2 Bagging using the R function randomForest"
   ]
  },
  {
   "cell_type": "code",
   "execution_count": 6,
   "metadata": {
    "vscode": {
     "languageId": "r"
    }
   },
   "outputs": [
    {
     "ename": "ERROR",
     "evalue": "Error in library(randomForest): there is no package called 'randomForest'\n",
     "output_type": "error",
     "traceback": [
      "Error in library(randomForest): there is no package called 'randomForest'\nTraceback:\n",
      "1. library(randomForest)"
     ]
    }
   ],
   "source": [
    "library(randomForest)\n",
    "bag.boston <- randomForest(medv ~ ., data = Boston , subset = train ,\n",
    "mtry = 12, ntRee = B, importance = TRUE)\n",
    "bag.boston"
   ]
  },
  {
   "cell_type": "code",
   "execution_count": 7,
   "metadata": {
    "vscode": {
     "languageId": "r"
    }
   },
   "outputs": [
    {
     "ename": "ERROR",
     "evalue": "Error in importance(bag.boston): could not find function \"importance\"\n",
     "output_type": "error",
     "traceback": [
      "Error in importance(bag.boston): could not find function \"importance\"\nTraceback:\n"
     ]
    }
   ],
   "source": [
    "importance(bag.boston)\n",
    "varImpPlot(bag.boston)\n"
   ]
  },
  {
   "cell_type": "markdown",
   "metadata": {},
   "source": [
    "3 Random Forests\n"
   ]
  },
  {
   "cell_type": "markdown",
   "metadata": {},
   "source": [
    "3.1 Random forest regression trees by hand"
   ]
  },
  {
   "cell_type": "code",
   "execution_count": 8,
   "metadata": {
    "vscode": {
     "languageId": "r"
    }
   },
   "outputs": [
    {
     "ename": "ERROR",
     "evalue": "Error in eval(expr, envir, enclos): object 'Boston' not found\n",
     "output_type": "error",
     "traceback": [
      "Error in eval(expr, envir, enclos): object 'Boston' not found\nTraceback:\n",
      "1. sample(1:12, size = floor(sqrt(ncol(Boston) - 1)), replace = FALSE)",
      "2. sample.int(length(x), size, replace, prob)",
      "3. ncol(Boston)"
     ]
    }
   ],
   "source": [
    "variable.samp <- c(sample(1:12, size = floor(sqrt(ncol(Boston) -1)),\n",
    "replace=FALSE),\n",
    "13) # Why the 13?"
   ]
  },
  {
   "cell_type": "code",
   "execution_count": 9,
   "metadata": {
    "vscode": {
     "languageId": "r"
    }
   },
   "outputs": [
    {
     "ename": "ERROR",
     "evalue": "Error in parse(text = x, srcfile = src): <text>:1:49: unexpected ']'\n1: tree.rf <- rpart(medv ~ . , data = Boston[ , ???]\n                                                    ^\n",
     "output_type": "error",
     "traceback": [
      "Error in parse(text = x, srcfile = src): <text>:1:49: unexpected ']'\n1: tree.rf <- rpart(medv ~ . , data = Boston[ , ???]\n                                                    ^\nTraceback:\n"
     ]
    }
   ],
   "source": [
    "tree.rf <- rpart(medv ~ . , data = Boston[ , ???], subset = train, cp = 0.01)\n"
   ]
  },
  {
   "cell_type": "markdown",
   "metadata": {},
   "source": [
    "4 Boosting"
   ]
  },
  {
   "cell_type": "markdown",
   "metadata": {},
   "source": [
    "4.1 Investigating a boosted tree model"
   ]
  },
  {
   "cell_type": "markdown",
   "metadata": {},
   "source": [
    "5 Written exercises"
   ]
  }
 ],
 "metadata": {
  "kernelspec": {
   "display_name": "R",
   "language": "R",
   "name": "ir"
  },
  "language_info": {
   "codemirror_mode": "r",
   "file_extension": ".r",
   "mimetype": "text/x-r-source",
   "name": "R",
   "pygments_lexer": "r",
   "version": "4.3.3"
  }
 },
 "nbformat": 4,
 "nbformat_minor": 2
}

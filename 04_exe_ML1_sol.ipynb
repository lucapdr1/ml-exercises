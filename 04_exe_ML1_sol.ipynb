{
 "cells": [
  {
   "cell_type": "code",
   "execution_count": 1,
   "metadata": {
    "vscode": {
     "languageId": "r"
    }
   },
   "outputs": [],
   "source": [
    "# check if packages can be loaded, i.e. they are already installed\n",
    "library(FNN) # KNN regression\n",
    "library(rgl) # 3D visualisation"
   ]
  },
  {
   "cell_type": "markdown",
   "metadata": {},
   "source": [
    "2 K-Nearest Neighbour Regression"
   ]
  },
  {
   "cell_type": "markdown",
   "metadata": {},
   "source": [
    "2.1 K-Nearest neighbours with one explanatory variable"
   ]
  },
  {
   "cell_type": "code",
   "execution_count": 2,
   "metadata": {
    "vscode": {
     "languageId": "r"
    }
   },
   "outputs": [],
   "source": [
    "x <- 1:20\n",
    "y <- x + rnorm(length(x), mean = 10)\n",
    "xgrid <- data.frame(x)\n"
   ]
  },
  {
   "cell_type": "code",
   "execution_count": 3,
   "metadata": {
    "vscode": {
     "languageId": "r"
    }
   },
   "outputs": [
    {
     "data": {
      "text/html": [
       "<table class=\"dataframe\">\n",
       "<caption>A matrix: 20 × 3 of type dbl</caption>\n",
       "<thead>\n",
       "\t<tr><th scope=col>x</th><th scope=col>y</th><th scope=col>fitted_1</th></tr>\n",
       "</thead>\n",
       "<tbody>\n",
       "\t<tr><td> 1</td><td>11.48</td><td>11.48</td></tr>\n",
       "\t<tr><td> 2</td><td>13.14</td><td>13.14</td></tr>\n",
       "\t<tr><td> 3</td><td>13.70</td><td>13.70</td></tr>\n",
       "\t<tr><td> 4</td><td>11.72</td><td>11.72</td></tr>\n",
       "\t<tr><td> 5</td><td>13.73</td><td>13.73</td></tr>\n",
       "\t<tr><td> 6</td><td>14.54</td><td>14.54</td></tr>\n",
       "\t<tr><td> 7</td><td>18.14</td><td>18.14</td></tr>\n",
       "\t<tr><td> 8</td><td>16.19</td><td>16.19</td></tr>\n",
       "\t<tr><td> 9</td><td>19.53</td><td>19.53</td></tr>\n",
       "\t<tr><td>10</td><td>20.30</td><td>20.30</td></tr>\n",
       "\t<tr><td>11</td><td>19.82</td><td>19.82</td></tr>\n",
       "\t<tr><td>12</td><td>22.81</td><td>22.81</td></tr>\n",
       "\t<tr><td>13</td><td>23.03</td><td>23.03</td></tr>\n",
       "\t<tr><td>14</td><td>23.61</td><td>23.61</td></tr>\n",
       "\t<tr><td>15</td><td>24.59</td><td>24.59</td></tr>\n",
       "\t<tr><td>16</td><td>26.58</td><td>26.58</td></tr>\n",
       "\t<tr><td>17</td><td>29.57</td><td>29.57</td></tr>\n",
       "\t<tr><td>18</td><td>30.07</td><td>30.07</td></tr>\n",
       "\t<tr><td>19</td><td>30.95</td><td>30.95</td></tr>\n",
       "\t<tr><td>20</td><td>30.50</td><td>30.50</td></tr>\n",
       "</tbody>\n",
       "</table>\n"
      ],
      "text/latex": [
       "A matrix: 20 × 3 of type dbl\n",
       "\\begin{tabular}{lll}\n",
       " x & y & fitted\\_1\\\\\n",
       "\\hline\n",
       "\t  1 & 11.48 & 11.48\\\\\n",
       "\t  2 & 13.14 & 13.14\\\\\n",
       "\t  3 & 13.70 & 13.70\\\\\n",
       "\t  4 & 11.72 & 11.72\\\\\n",
       "\t  5 & 13.73 & 13.73\\\\\n",
       "\t  6 & 14.54 & 14.54\\\\\n",
       "\t  7 & 18.14 & 18.14\\\\\n",
       "\t  8 & 16.19 & 16.19\\\\\n",
       "\t  9 & 19.53 & 19.53\\\\\n",
       "\t 10 & 20.30 & 20.30\\\\\n",
       "\t 11 & 19.82 & 19.82\\\\\n",
       "\t 12 & 22.81 & 22.81\\\\\n",
       "\t 13 & 23.03 & 23.03\\\\\n",
       "\t 14 & 23.61 & 23.61\\\\\n",
       "\t 15 & 24.59 & 24.59\\\\\n",
       "\t 16 & 26.58 & 26.58\\\\\n",
       "\t 17 & 29.57 & 29.57\\\\\n",
       "\t 18 & 30.07 & 30.07\\\\\n",
       "\t 19 & 30.95 & 30.95\\\\\n",
       "\t 20 & 30.50 & 30.50\\\\\n",
       "\\end{tabular}\n"
      ],
      "text/markdown": [
       "\n",
       "A matrix: 20 × 3 of type dbl\n",
       "\n",
       "| x | y | fitted_1 |\n",
       "|---|---|---|\n",
       "|  1 | 11.48 | 11.48 |\n",
       "|  2 | 13.14 | 13.14 |\n",
       "|  3 | 13.70 | 13.70 |\n",
       "|  4 | 11.72 | 11.72 |\n",
       "|  5 | 13.73 | 13.73 |\n",
       "|  6 | 14.54 | 14.54 |\n",
       "|  7 | 18.14 | 18.14 |\n",
       "|  8 | 16.19 | 16.19 |\n",
       "|  9 | 19.53 | 19.53 |\n",
       "| 10 | 20.30 | 20.30 |\n",
       "| 11 | 19.82 | 19.82 |\n",
       "| 12 | 22.81 | 22.81 |\n",
       "| 13 | 23.03 | 23.03 |\n",
       "| 14 | 23.61 | 23.61 |\n",
       "| 15 | 24.59 | 24.59 |\n",
       "| 16 | 26.58 | 26.58 |\n",
       "| 17 | 29.57 | 29.57 |\n",
       "| 18 | 30.07 | 30.07 |\n",
       "| 19 | 30.95 | 30.95 |\n",
       "| 20 | 30.50 | 30.50 |\n",
       "\n"
      ],
      "text/plain": [
       "      x  y     fitted_1\n",
       " [1,]  1 11.48 11.48   \n",
       " [2,]  2 13.14 13.14   \n",
       " [3,]  3 13.70 13.70   \n",
       " [4,]  4 11.72 11.72   \n",
       " [5,]  5 13.73 13.73   \n",
       " [6,]  6 14.54 14.54   \n",
       " [7,]  7 18.14 18.14   \n",
       " [8,]  8 16.19 16.19   \n",
       " [9,]  9 19.53 19.53   \n",
       "[10,] 10 20.30 20.30   \n",
       "[11,] 11 19.82 19.82   \n",
       "[12,] 12 22.81 22.81   \n",
       "[13,] 13 23.03 23.03   \n",
       "[14,] 14 23.61 23.61   \n",
       "[15,] 15 24.59 24.59   \n",
       "[16,] 16 26.58 26.58   \n",
       "[17,] 17 29.57 29.57   \n",
       "[18,] 18 30.07 30.07   \n",
       "[19,] 19 30.95 30.95   \n",
       "[20,] 20 30.50 30.50   "
      ]
     },
     "metadata": {},
     "output_type": "display_data"
    },
    {
     "data": {
      "text/html": [
       "TRUE"
      ],
      "text/latex": [
       "TRUE"
      ],
      "text/markdown": [
       "TRUE"
      ],
      "text/plain": [
       "[1] TRUE"
      ]
     },
     "metadata": {},
     "output_type": "display_data"
    }
   ],
   "source": [
    "library(FNN)\n",
    "knnr_out_1 <- knn.reg(x, y = y, k = 1, test = xgrid)\n",
    "round(cbind(x, y, fitted_1 = knnr_out_1$pred), 2)\n",
    "identical(y, knnr_out_1$pred)\n"
   ]
  },
  {
   "cell_type": "code",
   "execution_count": 4,
   "metadata": {
    "vscode": {
     "languageId": "r"
    }
   },
   "outputs": [
    {
     "data": {
      "image/png": "[encoded data removed]",
      "text/plain": [
       "plot without title"
      ]
     },
     "metadata": {
      "image/png": {
       "height": 420,
       "width": 420
      }
     },
     "output_type": "display_data"
    }
   ],
   "source": [
    "xgrid <- data.frame(x = seq(0, 21, 0.05))\n",
    "knnr_out_1 <- knn.reg(x, y = y, k = 1, test = xgrid)\n",
    "plot(x, y)\n",
    "lines(xgrid$x, knnr_out_1$pred)"
   ]
  },
  {
   "cell_type": "code",
   "execution_count": 5,
   "metadata": {
    "vscode": {
     "languageId": "r"
    }
   },
   "outputs": [
    {
     "data": {
      "image/png": "[encoded data removed]",
      "text/plain": [
       "plot without title"
      ]
     },
     "metadata": {
      "image/png": {
       "height": 420,
       "width": 420
      }
     },
     "output_type": "display_data"
    }
   ],
   "source": [
    "xgrid <- data.frame(x = seq(0, 21, 0.05))\n",
    "plot(x, y)\n",
    "k_seq <- seq(1, 7, 2)\n",
    "for(i in seq(1, 11, 2)){\n",
    "knnr_out_i <- knn.reg(x, y = y, k = i, test = xgrid)\n",
    "lines(xgrid$x, knnr_out_i$pred, col = i)\n",
    "}\n",
    "legend(\"topleft\", col = k_seq, legend = paste0(\"k=\", k_seq), lty = 1)"
   ]
  },
  {
   "cell_type": "code",
   "execution_count": 6,
   "metadata": {
    "vscode": {
     "languageId": "r"
    }
   },
   "outputs": [
    {
     "data": {
      "text/plain": [
       "\n",
       "Call:\n",
       "lm(formula = y ~ x)\n",
       "\n",
       "Residuals:\n",
       "     Min       1Q   Median       3Q      Max \n",
       "-1.86837 -0.97191  0.00381  1.16548  1.76206 \n",
       "\n",
       "Coefficients:\n",
       "            Estimate Std. Error t value Pr(>|t|)    \n",
       "(Intercept)  9.20935    0.56763   16.22 3.44e-12 ***\n",
       "x            1.09424    0.04739   23.09 7.94e-15 ***\n",
       "---\n",
       "Signif. codes:  0 '***' 0.001 '**' 0.01 '*' 0.05 '.' 0.1 ' ' 1\n",
       "\n",
       "Residual standard error: 1.222 on 18 degrees of freedom\n",
       "Multiple R-squared:  0.9673,\tAdjusted R-squared:  0.9655 \n",
       "F-statistic: 533.3 on 1 and 18 DF,  p-value: 7.942e-15\n"
      ]
     },
     "metadata": {},
     "output_type": "display_data"
    },
    {
     "data": {
      "image/png": "[encoded data removed]",
      "text/plain": [
       "plot without title"
      ]
     },
     "metadata": {
      "image/png": {
       "height": 420,
       "width": 420
      }
     },
     "output_type": "display_data"
    }
   ],
   "source": [
    "lm_out <- lm(y ~ x)\n",
    "summary(lm_out)\n",
    "plot(x, y)\n",
    "abline(lm_out, col = 2)\n",
    "knnr_out_19 <- knn.reg(x, test = xgrid, y = y, k = 19)\n",
    "lines(xgrid[, 1], knnr_out_19$pred, col = 3)"
   ]
  },
  {
   "cell_type": "markdown",
   "metadata": {},
   "source": [
    "2.2 K-Nearest neighbours with multiple explanatory variables"
   ]
  },
  {
   "cell_type": "code",
   "execution_count": 7,
   "metadata": {
    "vscode": {
     "languageId": "r"
    }
   },
   "outputs": [
    {
     "data": {
      "text/plain": [
       "    fitness          weight        lungvol     \n",
       " Min.   : 1.00   Min.   :60.0   Min.   :42.00  \n",
       " 1st Qu.: 6.25   1st Qu.:64.5   1st Qu.:44.25  \n",
       " Median :11.00   Median :69.0   Median :46.00  \n",
       " Mean   : 9.40   Mean   :71.3   Mean   :47.10  \n",
       " 3rd Qu.:12.75   3rd Qu.:72.5   3rd Qu.:49.25  \n",
       " Max.   :15.00   Max.   :92.0   Max.   :54.00  "
      ]
     },
     "metadata": {},
     "output_type": "display_data"
    }
   ],
   "source": [
    "fitdata <- as.data.frame(\n",
    "    matrix(c(1, 87, 42,\n",
    "        6, 73, 43,\n",
    "        7, 66, 44,\n",
    "        15, 62, 54,\n",
    "        12, 68, 45,\n",
    "        4, 92, 46,\n",
    "        12, 60, 50,\n",
    "        13, 70, 46,\n",
    "        14, 71, 54,\n",
    "        10, 64, 47),\n",
    "    byrow = TRUE, ncol = 3)\n",
    ")\n",
    "names(fitdata) <- c(\"fitness\", \"weight\", \"lungvol\")\n",
    "summary(fitdata)"
   ]
  },
  {
   "cell_type": "code",
   "execution_count": 8,
   "metadata": {
    "vscode": {
     "languageId": "r"
    }
   },
   "outputs": [
    {
     "data": {
      "text/plain": [
       "\n",
       "Call:\n",
       "lm(formula = fitness ~ weight + lungvol, data = fitdata)\n",
       "\n",
       "Residuals:\n",
       "    Min      1Q  Median      3Q     Max \n",
       "-1.8049 -1.5608 -0.6082  0.3628  3.9461 \n",
       "\n",
       "Coefficients:\n",
       "            Estimate Std. Error t value Pr(>|t|)  \n",
       "(Intercept)  -1.7860    13.1958  -0.135   0.8961  \n",
       "weight       -0.2324     0.0816  -2.848   0.0248 *\n",
       "lungvol       0.5893     0.2008   2.935   0.0219 *\n",
       "---\n",
       "Signif. codes:  0 '***' 0.001 '**' 0.01 '*' 0.05 '.' 0.1 ' ' 1\n",
       "\n",
       "Residual standard error: 2.279 on 7 degrees of freedom\n",
       "Multiple R-squared:  0.8149,\tAdjusted R-squared:  0.762 \n",
       "F-statistic: 15.41 on 2 and 7 DF,  p-value: 0.002728\n"
      ]
     },
     "metadata": {},
     "output_type": "display_data"
    }
   ],
   "source": [
    "lm_fitness <- lm(fitness ~ weight + lungvol, data = fitdata)\n",
    "summary(lm_fitness)"
   ]
  },
  {
   "cell_type": "code",
   "execution_count": 9,
   "metadata": {
    "vscode": {
     "languageId": "r"
    }
   },
   "outputs": [
    {
     "data": {
      "image/png": "[encoded data removed]",
      "text/plain": [
       "plot without title"
      ]
     },
     "metadata": {
      "image/png": {
       "height": 420,
       "width": 420
      }
     },
     "output_type": "display_data"
    }
   ],
   "source": [
    "m1 <- seq(55, 95, length = 20)\n",
    "m2 <- seq(40, 55, length = 20)\n",
    "Xgrid <- expand.grid(weight = m1, lungvol = m2)\n",
    "pred.grid <- predict(lm_fitness, newdata = Xgrid)\n",
    "tt <- cbind(Xgrid, pred.grid)\n",
    "res <- persp(m1, m2, matrix(pred.grid, nrow = length(m1)), border = grey(0.6),\n",
    "    xlab = \"Weight\", ylab = \"Lung Volume\", zlab = \"fitness\",\n",
    "    theta = 0, phi = 15)\n",
    "points(trans3d(fitdata$weight, fitdata$lungvol, fitdata$fitness, pmat = res),\n",
    "    pch = 16, col = (2:3)[1.5 + 0.5 * sign(lm_fitness$residuals)])"
   ]
  },
  {
   "cell_type": "code",
   "execution_count": 10,
   "metadata": {
    "vscode": {
     "languageId": "r"
    }
   },
   "outputs": [],
   "source": [
    "library(rgl)\n",
    "with(tt, plot3d(lungvol, weight, pred.grid,\n",
    "col = \"grey80\", size = 3, zlab = \"fitness\"))\n",
    "with(fitdata, plot3d(lungvol, weight, fitness, add = TRUE, size = 2,\n",
    "col = (2:3)[1.5 + 0.5 * sign(lm_fitness$residuals)],\n",
    "type = \"s\"))\n"
   ]
  },
  {
   "cell_type": "code",
   "execution_count": 11,
   "metadata": {
    "vscode": {
     "languageId": "r"
    }
   },
   "outputs": [
    {
     "data": {
      "image/png": "[encoded data removed]",
      "text/plain": [
       "plot without title"
      ]
     },
     "metadata": {
      "image/png": {
       "height": 420,
       "width": 420
      }
     },
     "output_type": "display_data"
    }
   ],
   "source": [
    "X <- fitdata[, c(\"weight\", \"lungvol\")]\n",
    "knnr_out_1 <- knn.reg(X, y = fitdata$fitness, k = 1, test = Xgrid)\n",
    "res <- persp(m1, m2, matrix(knnr_out_1$pred, nrow = length(m1)),\n",
    "border = grey(0.6),\n",
    "xlab = \"Weight\", ylab = \"Lungvol\", zlab = \"fitness\",\n",
    "theta = 15, phi = 15)\n",
    "points(trans3d(fitdata$weight, fitdata$lungvol, fitdata$fitness, pmat = res),\n",
    "pch = 16, col = c(2:3)[1.5 + 0.5 * sign(lm_fitness$residuals)])\n",
    "with(tt, plot3d(lungvol, weight, knnr_out_1$pred,\n",
    "col = \"grey80\", size = 3, zlab = \"fitness\"))\n",
    "with(fitdata, plot3d(lungvol, weight, fitness, add = TRUE,\n",
    "size = 2, col = \"red\", type = \"s\"))"
   ]
  },
  {
   "cell_type": "markdown",
   "metadata": {},
   "source": [
    "3 Mean Squared Error and cross validation"
   ]
  },
  {
   "cell_type": "markdown",
   "metadata": {},
   "source": [
    "3.1 Sneak preview"
   ]
  },
  {
   "cell_type": "code",
   "execution_count": 12,
   "metadata": {
    "vscode": {
     "languageId": "r"
    }
   },
   "outputs": [
    {
     "data": {
      "text/html": [
       "<table class=\"dataframe\">\n",
       "<caption>A matrix: 20 × 4 of type dbl</caption>\n",
       "<thead>\n",
       "\t<tr><th scope=col>x</th><th scope=col>y</th><th scope=col>pred_wo_test</th><th scope=col>pred_with_test</th></tr>\n",
       "</thead>\n",
       "<tbody>\n",
       "\t<tr><td> 1</td><td>11.48</td><td>13.14</td><td>11.48</td></tr>\n",
       "\t<tr><td> 2</td><td>13.14</td><td>11.48</td><td>13.14</td></tr>\n",
       "\t<tr><td> 3</td><td>13.70</td><td>13.14</td><td>13.70</td></tr>\n",
       "\t<tr><td> 4</td><td>11.72</td><td>13.73</td><td>11.72</td></tr>\n",
       "\t<tr><td> 5</td><td>13.73</td><td>11.72</td><td>13.73</td></tr>\n",
       "\t<tr><td> 6</td><td>14.54</td><td>18.14</td><td>14.54</td></tr>\n",
       "\t<tr><td> 7</td><td>18.14</td><td>16.19</td><td>18.14</td></tr>\n",
       "\t<tr><td> 8</td><td>16.19</td><td>18.14</td><td>16.19</td></tr>\n",
       "\t<tr><td> 9</td><td>19.53</td><td>20.30</td><td>19.53</td></tr>\n",
       "\t<tr><td>10</td><td>20.30</td><td>19.53</td><td>20.30</td></tr>\n",
       "\t<tr><td>11</td><td>19.82</td><td>22.81</td><td>19.82</td></tr>\n",
       "\t<tr><td>12</td><td>22.81</td><td>19.82</td><td>22.81</td></tr>\n",
       "\t<tr><td>13</td><td>23.03</td><td>23.61</td><td>23.03</td></tr>\n",
       "\t<tr><td>14</td><td>23.61</td><td>23.03</td><td>23.61</td></tr>\n",
       "\t<tr><td>15</td><td>24.59</td><td>23.61</td><td>24.59</td></tr>\n",
       "\t<tr><td>16</td><td>26.58</td><td>29.57</td><td>26.58</td></tr>\n",
       "\t<tr><td>17</td><td>29.57</td><td>26.58</td><td>29.57</td></tr>\n",
       "\t<tr><td>18</td><td>30.07</td><td>30.95</td><td>30.07</td></tr>\n",
       "\t<tr><td>19</td><td>30.95</td><td>30.50</td><td>30.95</td></tr>\n",
       "\t<tr><td>20</td><td>30.50</td><td>30.95</td><td>30.50</td></tr>\n",
       "</tbody>\n",
       "</table>\n"
      ],
      "text/latex": [
       "A matrix: 20 × 4 of type dbl\n",
       "\\begin{tabular}{llll}\n",
       " x & y & pred\\_wo\\_test & pred\\_with\\_test\\\\\n",
       "\\hline\n",
       "\t  1 & 11.48 & 13.14 & 11.48\\\\\n",
       "\t  2 & 13.14 & 11.48 & 13.14\\\\\n",
       "\t  3 & 13.70 & 13.14 & 13.70\\\\\n",
       "\t  4 & 11.72 & 13.73 & 11.72\\\\\n",
       "\t  5 & 13.73 & 11.72 & 13.73\\\\\n",
       "\t  6 & 14.54 & 18.14 & 14.54\\\\\n",
       "\t  7 & 18.14 & 16.19 & 18.14\\\\\n",
       "\t  8 & 16.19 & 18.14 & 16.19\\\\\n",
       "\t  9 & 19.53 & 20.30 & 19.53\\\\\n",
       "\t 10 & 20.30 & 19.53 & 20.30\\\\\n",
       "\t 11 & 19.82 & 22.81 & 19.82\\\\\n",
       "\t 12 & 22.81 & 19.82 & 22.81\\\\\n",
       "\t 13 & 23.03 & 23.61 & 23.03\\\\\n",
       "\t 14 & 23.61 & 23.03 & 23.61\\\\\n",
       "\t 15 & 24.59 & 23.61 & 24.59\\\\\n",
       "\t 16 & 26.58 & 29.57 & 26.58\\\\\n",
       "\t 17 & 29.57 & 26.58 & 29.57\\\\\n",
       "\t 18 & 30.07 & 30.95 & 30.07\\\\\n",
       "\t 19 & 30.95 & 30.50 & 30.95\\\\\n",
       "\t 20 & 30.50 & 30.95 & 30.50\\\\\n",
       "\\end{tabular}\n"
      ],
      "text/markdown": [
       "\n",
       "A matrix: 20 × 4 of type dbl\n",
       "\n",
       "| x | y | pred_wo_test | pred_with_test |\n",
       "|---|---|---|---|\n",
       "|  1 | 11.48 | 13.14 | 11.48 |\n",
       "|  2 | 13.14 | 11.48 | 13.14 |\n",
       "|  3 | 13.70 | 13.14 | 13.70 |\n",
       "|  4 | 11.72 | 13.73 | 11.72 |\n",
       "|  5 | 13.73 | 11.72 | 13.73 |\n",
       "|  6 | 14.54 | 18.14 | 14.54 |\n",
       "|  7 | 18.14 | 16.19 | 18.14 |\n",
       "|  8 | 16.19 | 18.14 | 16.19 |\n",
       "|  9 | 19.53 | 20.30 | 19.53 |\n",
       "| 10 | 20.30 | 19.53 | 20.30 |\n",
       "| 11 | 19.82 | 22.81 | 19.82 |\n",
       "| 12 | 22.81 | 19.82 | 22.81 |\n",
       "| 13 | 23.03 | 23.61 | 23.03 |\n",
       "| 14 | 23.61 | 23.03 | 23.61 |\n",
       "| 15 | 24.59 | 23.61 | 24.59 |\n",
       "| 16 | 26.58 | 29.57 | 26.58 |\n",
       "| 17 | 29.57 | 26.58 | 29.57 |\n",
       "| 18 | 30.07 | 30.95 | 30.07 |\n",
       "| 19 | 30.95 | 30.50 | 30.95 |\n",
       "| 20 | 30.50 | 30.95 | 30.50 |\n",
       "\n"
      ],
      "text/plain": [
       "      x  y     pred_wo_test pred_with_test\n",
       " [1,]  1 11.48 13.14        11.48         \n",
       " [2,]  2 13.14 11.48        13.14         \n",
       " [3,]  3 13.70 13.14        13.70         \n",
       " [4,]  4 11.72 13.73        11.72         \n",
       " [5,]  5 13.73 11.72        13.73         \n",
       " [6,]  6 14.54 18.14        14.54         \n",
       " [7,]  7 18.14 16.19        18.14         \n",
       " [8,]  8 16.19 18.14        16.19         \n",
       " [9,]  9 19.53 20.30        19.53         \n",
       "[10,] 10 20.30 19.53        20.30         \n",
       "[11,] 11 19.82 22.81        19.82         \n",
       "[12,] 12 22.81 19.82        22.81         \n",
       "[13,] 13 23.03 23.61        23.03         \n",
       "[14,] 14 23.61 23.03        23.61         \n",
       "[15,] 15 24.59 23.61        24.59         \n",
       "[16,] 16 26.58 29.57        26.58         \n",
       "[17,] 17 29.57 26.58        29.57         \n",
       "[18,] 18 30.07 30.95        30.07         \n",
       "[19,] 19 30.95 30.50        30.95         \n",
       "[20,] 20 30.50 30.95        30.50         "
      ]
     },
     "metadata": {},
     "output_type": "display_data"
    }
   ],
   "source": [
    "xgrid <- data.frame(x)\n",
    "knnr_out_a_1 <- knn.reg(x, y = y, k = 1) # what is the default value for test?\n",
    "knnr_out_b_1 <- knn.reg(x, test = xgrid, y = y, k = 1)\n",
    "round(cbind(x, y,\n",
    "pred_wo_test = knnr_out_a_1$pred,\n",
    "pred_with_test = knnr_out_b_1$pred), 2)"
   ]
  },
  {
   "cell_type": "code",
   "execution_count": 14,
   "metadata": {
    "vscode": {
     "languageId": "r"
    }
   },
   "outputs": [
    {
     "data": {
      "image/png": "[encoded data removed]",
      "text/plain": [
       "plot without title"
      ]
     },
     "metadata": {
      "image/png": {
       "height": 420,
       "width": 420
      }
     },
     "output_type": "display_data"
    }
   ],
   "source": [
    "k_vec <- 1:10\n",
    "mse_vec <- rep(NA, length(k_vec))\n",
    "for(k in k_vec){\n",
    "knnr_out_k <- knn.reg(x, y = y, k = k) # important: test = NULL for CV\n",
    "mse_vec[k] <- mean((y - knnr_out_k$pred)^2)\n",
    "}\n",
    "plot(k_vec, mse_vec)\n"
   ]
  },
  {
   "cell_type": "code",
   "execution_count": 17,
   "metadata": {
    "vscode": {
     "languageId": "r"
    }
   },
   "outputs": [
    {
     "data": {
      "image/png": "[encoded data removed]",
      "text/plain": [
       "plot without title"
      ]
     },
     "metadata": {
      "image/png": {
       "height": 420,
       "width": 420
      }
     },
     "output_type": "display_data"
    }
   ],
   "source": [
    "k_vec <- 1:(nrow(fitdata) - 1) # for CV there is a maximum on n-1 neighbours\n",
    "mse_vec <- rep(NA, length(k_vec))\n",
    "for(k in k_vec){\n",
    "knnr_out_k <- knn.reg(X, y = fitdata$fitness, k = k)\n",
    "mse_vec[k] <- mean((fitdata$fitness - knnr_out_k$pred)^2)\n",
    "}\n",
    "plot(k_vec, mse_vec)\n"
   ]
  },
  {
   "cell_type": "code",
   "execution_count": 18,
   "metadata": {
    "vscode": {
     "languageId": "r"
    }
   },
   "outputs": [
    {
     "data": {
      "image/png": "[encoded data removed]",
      "text/plain": [
       "plot without title"
      ]
     },
     "metadata": {
      "image/png": {
       "height": 420,
       "width": 420
      }
     },
     "output_type": "display_data"
    }
   ],
   "source": [
    "knnr_out_2 <- knn.reg(X, y = fitdata$fitness, k = 2, test = Xgrid)\n",
    "res <- persp(m1, m2, matrix(knnr_out_2$pred, nrow = length(m1)),\n",
    "border = grey(0.6),\n",
    "xlab = \"Weight\", ylab = \"Lungvol\", zlab = \"fitness\",\n",
    "theta = 15, phi = 15)\n",
    "points(trans3d(fitdata$weight, fitdata$lungvol, fitdata$fitness, pmat = res),\n",
    "pch = 16, col = c(2:3)[1.5 + 0.5 * sign(lm_fitness$residuals)])\n",
    "with(tt, plot3d(lungvol, weight, knnr_out_2$pred,\n",
    "col = \"grey80\", size = 3, zlab = \"fitness\"))\n",
    "with(fitdata, plot3d(lungvol, weight, fitness, add = TRUE,\n",
    "size = 2, col = \"red\", type = \"s\"))"
   ]
  },
  {
   "cell_type": "markdown",
   "metadata": {},
   "source": [
    "4 Written exercise\n"
   ]
  },
  {
   "cell_type": "markdown",
   "metadata": {},
   "source": [
    "To estimate the value of \\( y \\) at the point \\( \\mathbf{x}' = (10, 5) \\) using KNN regression with \\( k = 2 \\) and \\( k = 4 \\), we follow these steps:\n",
    "\n",
    "1. **Calculate the Euclidean distance between \\( \\mathbf{x}' \\) and each point in the dataset.**\n",
    "2. **Sort the points by their distance to \\( \\mathbf{x}' \\).**\n",
    "3. **Select the \\( k \\) nearest neighbors.**\n",
    "4. **Compute the average \\( y \\) value of these neighbors.**\n",
    "\n",
    "### Step 1: Calculate Euclidean Distances\n",
    "The Euclidean distance between two points \\((x_1, x_2)\\) and \\((x_1', x_2')\\) is given by:\n",
    "\\[ d = \\sqrt{(x_1 - x_1')^2 + (x_2 - x_2')^2} \\]\n",
    "\n",
    "For \\( \\mathbf{x}' = (10, 5) \\):\n",
    "\n",
    "\\[\n",
    "\\begin{aligned}\n",
    "&\\text{Distance to } (3, 7): &\\sqrt{(10 - 3)^2 + (5 - 7)^2} = \\sqrt{49 + 4} = \\sqrt{53} \\approx 7.28 \\\\\n",
    "&\\text{Distance to } (4, 3): &\\sqrt{(10 - 4)^2 + (5 - 3)^2} = \\sqrt{36 + 4} = \\sqrt{40} \\approx 6.32 \\\\\n",
    "&\\text{Distance to } (7, 9): &\\sqrt{(10 - 7)^2 + (5 - 9)^2} = \\sqrt{9 + 16} = \\sqrt{25} = 5 \\\\\n",
    "&\\text{Distance to } (8, 6): &\\sqrt{(10 - 8)^2 + (5 - 6)^2} = \\sqrt{4 + 1} = \\sqrt{5} \\approx 2.24 \\\\\n",
    "&\\text{Distance to } (9, 4): &\\sqrt{(10 - 9)^2 + (5 - 4)^2} = \\sqrt{1 + 1} = \\sqrt{2} \\approx 1.41 \\\\\n",
    "&\\text{Distance to } (11, 12): &\\sqrt{(10 - 11)^2 + (5 - 12)^2} = \\sqrt{1 + 49} = \\sqrt{50} \\approx 7.07 \\\\\n",
    "&\\text{Distance to } (13, 5): &\\sqrt{(10 - 13)^2 + (5 - 5)^2} = \\sqrt{9 + 0} = 3 \\\\\n",
    "&\\text{Distance to } (13, 8): &\\sqrt{(10 - 13)^2 + (5 - 8)^2} = \\sqrt{9 + 9} = \\sqrt{18} \\approx 4.24 \\\\\n",
    "\\end{aligned}\n",
    "\\]\n",
    "\n",
    "### Step 2: Sort by Distance\n",
    "\\[\n",
    "\\begin{aligned}\n",
    "(9, 4) &\\approx 1.41 &y = 8 \\\\\n",
    "(8, 6) &\\approx 2.24 &y = 10 \\\\\n",
    "(13, 5) &\\approx 3 &y = 0 \\\\\n",
    "(13, 8) &\\approx 4.24 &y = 1 \\\\\n",
    "(7, 9) &\\approx 5 &y = 9 \\\\\n",
    "(11, 12) &\\approx 7.07 &y = 3 \\\\\n",
    "(4, 3) &\\approx 6.32 &y = 4 \\\\\n",
    "(3, 7) &\\approx 7.28 &y = 1 \\\\\n",
    "\\end{aligned}\n",
    "\\]\n",
    "\n",
    "### Step 3: Select the \\( k \\) Nearest Neighbors\n",
    "For \\( k = 2 \\):\n",
    "\\[\n",
    "\\begin{aligned}\n",
    "(9, 4) &\\approx 1.41 &y = 8 \\\\\n",
    "(8, 6) &\\approx 2.24 &y = 10 \\\\\n",
    "\\end{aligned}\n",
    "\\]\n",
    "For \\( k = 4 \\):\n",
    "\\[\n",
    "\\begin{aligned}\n",
    "(9, 4) &\\approx 1.41 &y = 8 \\\\\n",
    "(8, 6) &\\approx 2.24 &y = 10 \\\\\n",
    "(13, 5) &\\approx 3 &y = 0 \\\\\n",
    "(13, 8) &\\approx 4.24 &y = 1 \\\\\n",
    "\\end{aligned}\n",
    "\\]\n",
    "\n",
    "### Step 4: Compute the Average \\( y \\) Value\n",
    "For \\( k = 2 \\):\n",
    "\\[\n",
    "\\text{Average } y = \\frac{8 + 10}{2} = 9\n",
    "\\]\n",
    "\n",
    "For \\( k = 4 \\):\n",
    "\\[\n",
    "\\text{Average } y = \\frac{8 + 10 + 0 + 1}{4} = \\frac{19}{4} = 4.75\n",
    "\\]\n",
    "\n",
    "### Results\n",
    "- **KNN regression estimate for \\( \\mathbf{x}' = (10, 5) \\) with \\( k = 2 \\): 9**\n",
    "- **KNN regression estimate for \\( \\mathbf{x}' = (10, 5) \\) with \\( k = 4 \\): 4.75**"
   ]
  }
 ],
 "metadata": {
  "kernelspec": {
   "display_name": "R",
   "language": "R",
   "name": "ir"
  },
  "language_info": {
   "codemirror_mode": "r",
   "file_extension": ".r",
   "mimetype": "text/x-r-source",
   "name": "R",
   "pygments_lexer": "r",
   "version": "4.3.3"
  }
 },
 "nbformat": 4,
 "nbformat_minor": 2
}

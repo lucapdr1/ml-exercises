{
 "cells": [
  {
   "cell_type": "code",
   "execution_count": 1,
   "metadata": {
    "vscode": {
     "languageId": "r"
    }
   },
   "outputs": [
    {
     "name": "stderr",
     "output_type": "stream",
     "text": [
      "Loading required package: Matrix\n",
      "\n",
      "Loaded glmnet 4.1-8\n",
      "\n"
     ]
    }
   ],
   "source": [
    "# check if packages can be loaded, i.e. they are already installed\n",
    "library(glmnet) # shrinkage regression\n",
    "library(ISLR2) # for data sets"
   ]
  },
  {
   "cell_type": "markdown",
   "metadata": {},
   "source": [
    "2 Ridge and Lasso Regression"
   ]
  },
  {
   "cell_type": "markdown",
   "metadata": {},
   "source": [
    "2.1 The baseball Hitters data"
   ]
  },
  {
   "cell_type": "code",
   "execution_count": 2,
   "metadata": {
    "vscode": {
     "languageId": "r"
    }
   },
   "outputs": [],
   "source": [
    "#==============================================================================#\n",
    "# Shrinkage Regression: Lab Section 6.5.2                                      #\n",
    "# James et al.  (https://www.statlearning.com/)                                #\n",
    "#==============================================================================#\n",
    "rm(list = ls(all.names = TRUE))\n",
    "\n",
    "\n",
    "# 00: packages -----------------------------------------------------------------\n",
    "library(glmnet)\n",
    "library (ISLR2)"
   ]
  },
  {
   "cell_type": "code",
   "execution_count": 3,
   "metadata": {
    "vscode": {
     "languageId": "r"
    }
   },
   "outputs": [
    {
     "data": {
      "text/plain": [
       "     AtBat            Hits         HmRun            Runs       \n",
       " Min.   : 16.0   Min.   :  1   Min.   : 0.00   Min.   :  0.00  \n",
       " 1st Qu.:255.2   1st Qu.: 64   1st Qu.: 4.00   1st Qu.: 30.25  \n",
       " Median :379.5   Median : 96   Median : 8.00   Median : 48.00  \n",
       " Mean   :380.9   Mean   :101   Mean   :10.77   Mean   : 50.91  \n",
       " 3rd Qu.:512.0   3rd Qu.:137   3rd Qu.:16.00   3rd Qu.: 69.00  \n",
       " Max.   :687.0   Max.   :238   Max.   :40.00   Max.   :130.00  \n",
       "                                                               \n",
       "      RBI             Walks            Years            CAtBat       \n",
       " Min.   :  0.00   Min.   :  0.00   Min.   : 1.000   Min.   :   19.0  \n",
       " 1st Qu.: 28.00   1st Qu.: 22.00   1st Qu.: 4.000   1st Qu.:  816.8  \n",
       " Median : 44.00   Median : 35.00   Median : 6.000   Median : 1928.0  \n",
       " Mean   : 48.03   Mean   : 38.74   Mean   : 7.444   Mean   : 2648.7  \n",
       " 3rd Qu.: 64.75   3rd Qu.: 53.00   3rd Qu.:11.000   3rd Qu.: 3924.2  \n",
       " Max.   :121.00   Max.   :105.00   Max.   :24.000   Max.   :14053.0  \n",
       "                                                                     \n",
       "     CHits            CHmRun           CRuns             CRBI        \n",
       " Min.   :   4.0   Min.   :  0.00   Min.   :   1.0   Min.   :   0.00  \n",
       " 1st Qu.: 209.0   1st Qu.: 14.00   1st Qu.: 100.2   1st Qu.:  88.75  \n",
       " Median : 508.0   Median : 37.50   Median : 247.0   Median : 220.50  \n",
       " Mean   : 717.6   Mean   : 69.49   Mean   : 358.8   Mean   : 330.12  \n",
       " 3rd Qu.:1059.2   3rd Qu.: 90.00   3rd Qu.: 526.2   3rd Qu.: 426.25  \n",
       " Max.   :4256.0   Max.   :548.00   Max.   :2165.0   Max.   :1659.00  \n",
       "                                                                     \n",
       "     CWalks        League  Division    PutOuts          Assists     \n",
       " Min.   :   0.00   A:175   E:157    Min.   :   0.0   Min.   :  0.0  \n",
       " 1st Qu.:  67.25   N:147   W:165    1st Qu.: 109.2   1st Qu.:  7.0  \n",
       " Median : 170.50                    Median : 212.0   Median : 39.5  \n",
       " Mean   : 260.24                    Mean   : 288.9   Mean   :106.9  \n",
       " 3rd Qu.: 339.25                    3rd Qu.: 325.0   3rd Qu.:166.0  \n",
       " Max.   :1566.00                    Max.   :1378.0   Max.   :492.0  \n",
       "                                                                    \n",
       "     Errors          Salary       NewLeague\n",
       " Min.   : 0.00   Min.   :  67.5   A:176    \n",
       " 1st Qu.: 3.00   1st Qu.: 190.0   N:146    \n",
       " Median : 6.00   Median : 425.0            \n",
       " Mean   : 8.04   Mean   : 535.9            \n",
       " 3rd Qu.:11.00   3rd Qu.: 750.0            \n",
       " Max.   :32.00   Max.   :2460.0            \n",
       "                 NA's   :59                "
      ]
     },
     "metadata": {},
     "output_type": "display_data"
    }
   ],
   "source": [
    "# 01: data preparation ---------------------------------------------------------\n",
    "data(\"Hitters\")\n",
    "summary(Hitters)\n",
    "Hitters <- na.omit(Hitters)"
   ]
  },
  {
   "cell_type": "code",
   "execution_count": 4,
   "metadata": {
    "vscode": {
     "languageId": "r"
    }
   },
   "outputs": [
    {
     "data": {
      "image/png": "[encoded data removed]",
      "text/plain": [
       "Plot with title \"Histogram of Hitters$Salary\""
      ]
     },
     "metadata": {
      "image/png": {
       "height": 420,
       "width": 420
      }
     },
     "output_type": "display_data"
    },
    {
     "data": {
      "image/png": "[encoded data removed]",
      "text/plain": [
       "plot without title"
      ]
     },
     "metadata": {
      "image/png": {
       "height": 420,
       "width": 420
      }
     },
     "output_type": "display_data"
    }
   ],
   "source": [
    "# 03: data exploration ---------------------------------------------------------\n",
    "hist(Hitters$Salary)\n",
    "plot(Hitters$CHits, Hitters$Salary, log=\"xy\")\n"
   ]
  },
  {
   "cell_type": "code",
   "execution_count": 5,
   "metadata": {
    "vscode": {
     "languageId": "r"
    }
   },
   "outputs": [
    {
     "data": {
      "text/html": [
       "<style>\n",
       ".list-inline {list-style: none; margin:0; padding: 0}\n",
       ".list-inline>li {display: inline-block}\n",
       ".list-inline>li:not(:last-child)::after {content: \"\\00b7\"; padding: 0 .5ex}\n",
       "</style>\n",
       "<ol class=list-inline><li>20</li><li>100</li></ol>\n"
      ],
      "text/latex": [
       "\\begin{enumerate*}\n",
       "\\item 20\n",
       "\\item 100\n",
       "\\end{enumerate*}\n"
      ],
      "text/markdown": [
       "1. 20\n",
       "2. 100\n",
       "\n",
       "\n"
      ],
      "text/plain": [
       "[1]  20 100"
      ]
     },
     "metadata": {},
     "output_type": "display_data"
    },
    {
     "data": {
      "text/html": [
       "11497.5699539774"
      ],
      "text/latex": [
       "11497.5699539774"
      ],
      "text/markdown": [
       "11497.5699539774"
      ],
      "text/plain": [
       "[1] 11497.57"
      ]
     },
     "metadata": {},
     "output_type": "display_data"
    },
    {
     "data": {
      "text/html": [
       "<style>\n",
       ".dl-inline {width: auto; margin:0; padding: 0}\n",
       ".dl-inline>dt, .dl-inline>dd {float: none; width: auto; display: inline-block}\n",
       ".dl-inline>dt::after {content: \":\\0020\"; padding-right: .5ex}\n",
       ".dl-inline>dt:not(:first-of-type) {padding-left: .5ex}\n",
       "</style><dl class=dl-inline><dt>(Intercept)</dt><dd>407.356050200417</dd><dt>AtBat</dt><dd>0.0369571817501358</dd><dt>Hits</dt><dd>0.138180343807892</dd><dt>HmRun</dt><dd>0.524629975886912</dd><dt>Runs</dt><dd>0.230701522621179</dd><dt>RBI</dt><dd>0.239841458504058</dd><dt>Walks</dt><dd>0.289618741049883</dd><dt>Years</dt><dd>1.10770292908555</dd><dt>CAtBat</dt><dd>0.00313181522151328</dd><dt>CHits</dt><dd>0.0116536373557531</dd><dt>CHmRun</dt><dd>0.0875456697555948</dd><dt>CRuns</dt><dd>0.0233798823693758</dd><dt>CRBI</dt><dd>0.0241383203685686</dd><dt>CWalks</dt><dd>0.0250154205993731</dd><dt>LeagueN</dt><dd>0.0850281135625464</dd><dt>DivisionW</dt><dd>-6.21544097273148</dd><dt>PutOuts</dt><dd>0.0164825767604547</dd><dt>Assists</dt><dd>0.00261298804528182</dd><dt>Errors</dt><dd>-0.020502690365458</dd><dt>NewLeagueN</dt><dd>0.301433531372699</dd></dl>\n"
      ],
      "text/latex": [
       "\\begin{description*}\n",
       "\\item[(Intercept)] 407.356050200417\n",
       "\\item[AtBat] 0.0369571817501358\n",
       "\\item[Hits] 0.138180343807892\n",
       "\\item[HmRun] 0.524629975886912\n",
       "\\item[Runs] 0.230701522621179\n",
       "\\item[RBI] 0.239841458504058\n",
       "\\item[Walks] 0.289618741049883\n",
       "\\item[Years] 1.10770292908555\n",
       "\\item[CAtBat] 0.00313181522151328\n",
       "\\item[CHits] 0.0116536373557531\n",
       "\\item[CHmRun] 0.0875456697555948\n",
       "\\item[CRuns] 0.0233798823693758\n",
       "\\item[CRBI] 0.0241383203685686\n",
       "\\item[CWalks] 0.0250154205993731\n",
       "\\item[LeagueN] 0.0850281135625464\n",
       "\\item[DivisionW] -6.21544097273148\n",
       "\\item[PutOuts] 0.0164825767604547\n",
       "\\item[Assists] 0.00261298804528182\n",
       "\\item[Errors] -0.020502690365458\n",
       "\\item[NewLeagueN] 0.301433531372699\n",
       "\\end{description*}\n"
      ],
      "text/markdown": [
       "(Intercept)\n",
       ":   407.356050200417AtBat\n",
       ":   0.0369571817501358Hits\n",
       ":   0.138180343807892HmRun\n",
       ":   0.524629975886912Runs\n",
       ":   0.230701522621179RBI\n",
       ":   0.239841458504058Walks\n",
       ":   0.289618741049883Years\n",
       ":   1.10770292908555CAtBat\n",
       ":   0.00313181522151328CHits\n",
       ":   0.0116536373557531CHmRun\n",
       ":   0.0875456697555948CRuns\n",
       ":   0.0233798823693758CRBI\n",
       ":   0.0241383203685686CWalks\n",
       ":   0.0250154205993731LeagueN\n",
       ":   0.0850281135625464DivisionW\n",
       ":   -6.21544097273148PutOuts\n",
       ":   0.0164825767604547Assists\n",
       ":   0.00261298804528182Errors\n",
       ":   -0.020502690365458NewLeagueN\n",
       ":   0.301433531372699\n",
       "\n"
      ],
      "text/plain": [
       "  (Intercept)         AtBat          Hits         HmRun          Runs \n",
       "407.356050200   0.036957182   0.138180344   0.524629976   0.230701523 \n",
       "          RBI         Walks         Years        CAtBat         CHits \n",
       "  0.239841459   0.289618741   1.107702929   0.003131815   0.011653637 \n",
       "       CHmRun         CRuns          CRBI        CWalks       LeagueN \n",
       "  0.087545670   0.023379882   0.024138320   0.025015421   0.085028114 \n",
       "    DivisionW       PutOuts       Assists        Errors    NewLeagueN \n",
       " -6.215440973   0.016482577   0.002612988  -0.020502690   0.301433531 "
      ]
     },
     "metadata": {},
     "output_type": "display_data"
    },
    {
     "data": {
      "text/html": [
       "6.36061242142793"
      ],
      "text/latex": [
       "6.36061242142793"
      ],
      "text/markdown": [
       "6.36061242142793"
      ],
      "text/plain": [
       "[1] 6.360612"
      ]
     },
     "metadata": {},
     "output_type": "display_data"
    },
    {
     "data": {
      "text/html": [
       "705.480231071865"
      ],
      "text/latex": [
       "705.480231071865"
      ],
      "text/markdown": [
       "705.480231071865"
      ],
      "text/plain": [
       "[1] 705.4802"
      ]
     },
     "metadata": {},
     "output_type": "display_data"
    },
    {
     "data": {
      "text/html": [
       "<style>\n",
       ".dl-inline {width: auto; margin:0; padding: 0}\n",
       ".dl-inline>dt, .dl-inline>dd {float: none; width: auto; display: inline-block}\n",
       ".dl-inline>dt::after {content: \":\\0020\"; padding-right: .5ex}\n",
       ".dl-inline>dt:not(:first-of-type) {padding-left: .5ex}\n",
       "</style><dl class=dl-inline><dt>(Intercept)</dt><dd>54.3251995018381</dd><dt>AtBat</dt><dd>0.112111145878248</dd><dt>Hits</dt><dd>0.656224085323628</dd><dt>HmRun</dt><dd>1.17980909638778</dd><dt>Runs</dt><dd>0.937697128927057</dd><dt>RBI</dt><dd>0.847185458771522</dd><dt>Walks</dt><dd>1.3198794804878</dd><dt>Years</dt><dd>2.59640424574254</dd><dt>CAtBat</dt><dd>0.0108341254432856</dd><dt>CHits</dt><dd>0.0467455700054449</dd><dt>CHmRun</dt><dd>0.337773183143352</dd><dt>CRuns</dt><dd>0.0935552830000681</dd><dt>CRBI</dt><dd>0.0978040232271689</dd><dt>CWalks</dt><dd>0.0718961166304866</dd><dt>LeagueN</dt><dd>13.6837019095344</dd><dt>DivisionW</dt><dd>-54.6587775045921</dd><dt>PutOuts</dt><dd>0.118522894134745</dd><dt>Assists</dt><dd>0.01606037317599</dd><dt>Errors</dt><dd>-0.703586547290985</dd><dt>NewLeagueN</dt><dd>8.61181213448928</dd></dl>\n"
      ],
      "text/latex": [
       "\\begin{description*}\n",
       "\\item[(Intercept)] 54.3251995018381\n",
       "\\item[AtBat] 0.112111145878248\n",
       "\\item[Hits] 0.656224085323628\n",
       "\\item[HmRun] 1.17980909638778\n",
       "\\item[Runs] 0.937697128927057\n",
       "\\item[RBI] 0.847185458771522\n",
       "\\item[Walks] 1.3198794804878\n",
       "\\item[Years] 2.59640424574254\n",
       "\\item[CAtBat] 0.0108341254432856\n",
       "\\item[CHits] 0.0467455700054449\n",
       "\\item[CHmRun] 0.337773183143352\n",
       "\\item[CRuns] 0.0935552830000681\n",
       "\\item[CRBI] 0.0978040232271689\n",
       "\\item[CWalks] 0.0718961166304866\n",
       "\\item[LeagueN] 13.6837019095344\n",
       "\\item[DivisionW] -54.6587775045921\n",
       "\\item[PutOuts] 0.118522894134745\n",
       "\\item[Assists] 0.01606037317599\n",
       "\\item[Errors] -0.703586547290985\n",
       "\\item[NewLeagueN] 8.61181213448928\n",
       "\\end{description*}\n"
      ],
      "text/markdown": [
       "(Intercept)\n",
       ":   54.3251995018381AtBat\n",
       ":   0.112111145878248Hits\n",
       ":   0.656224085323628HmRun\n",
       ":   1.17980909638778Runs\n",
       ":   0.937697128927057RBI\n",
       ":   0.847185458771522Walks\n",
       ":   1.3198794804878Years\n",
       ":   2.59640424574254CAtBat\n",
       ":   0.0108341254432856CHits\n",
       ":   0.0467455700054449CHmRun\n",
       ":   0.337773183143352CRuns\n",
       ":   0.0935552830000681CRBI\n",
       ":   0.0978040232271689CWalks\n",
       ":   0.0718961166304866LeagueN\n",
       ":   13.6837019095344DivisionW\n",
       ":   -54.6587775045921PutOuts\n",
       ":   0.118522894134745Assists\n",
       ":   0.01606037317599Errors\n",
       ":   -0.703586547290985NewLeagueN\n",
       ":   8.61181213448928\n",
       "\n"
      ],
      "text/plain": [
       " (Intercept)        AtBat         Hits        HmRun         Runs          RBI \n",
       " 54.32519950   0.11211115   0.65622409   1.17980910   0.93769713   0.84718546 \n",
       "       Walks        Years       CAtBat        CHits       CHmRun        CRuns \n",
       "  1.31987948   2.59640425   0.01083413   0.04674557   0.33777318   0.09355528 \n",
       "        CRBI       CWalks      LeagueN    DivisionW      PutOuts      Assists \n",
       "  0.09780402   0.07189612  13.68370191 -54.65877750   0.11852289   0.01606037 \n",
       "      Errors   NewLeagueN \n",
       " -0.70358655   8.61181213 "
      ]
     },
     "metadata": {},
     "output_type": "display_data"
    },
    {
     "data": {
      "text/html": [
       "57.1100142625331"
      ],
      "text/latex": [
       "57.1100142625331"
      ],
      "text/markdown": [
       "57.1100142625331"
      ],
      "text/plain": [
       "[1] 57.11001"
      ]
     },
     "metadata": {},
     "output_type": "display_data"
    },
    {
     "data": {
      "image/png": "[encoded data removed]",
      "text/plain": [
       "plot without title"
      ]
     },
     "metadata": {
      "image/png": {
       "height": 420,
       "width": 420
      }
     },
     "output_type": "display_data"
    },
    {
     "data": {
      "image/png": "[encoded data removed]",
      "text/plain": [
       "plot without title"
      ]
     },
     "metadata": {
      "image/png": {
       "height": 420,
       "width": 420
      }
     },
     "output_type": "display_data"
    },
    {
     "data": {
      "image/png": "[encoded data removed]",
      "text/plain": [
       "plot without title"
      ]
     },
     "metadata": {
      "image/png": {
       "height": 420,
       "width": 420
      }
     },
     "output_type": "display_data"
    },
    {
     "data": {
      "image/png": "[encoded data removed]",
      "text/plain": [
       "plot without title"
      ]
     },
     "metadata": {
      "image/png": {
       "height": 420,
       "width": 420
      }
     },
     "output_type": "display_data"
    },
    {
     "data": {
      "image/png": "[encoded data removed]",
      "text/plain": [
       "plot without title"
      ]
     },
     "metadata": {
      "image/png": {
       "height": 420,
       "width": 420
      }
     },
     "output_type": "display_data"
    }
   ],
   "source": [
    "# 02: ridge regression ---------------------------------------------------------\n",
    "x <- model.matrix (Salary ~ ., Hitters)[, -1]\n",
    "y <- Hitters$Salary\n",
    "grid <- 10^seq(10, -2, length = 100)\n",
    "ridge_mod <- glmnet(x, y, alpha = 0, lambda = grid)\n",
    "dim(coef(ridge_mod ))\n",
    "\n",
    "# strong penalization\n",
    "ridge_mod$lambda[50]\n",
    "coef(ridge_mod)[, 50]\n",
    "sqrt(sum(coef(ridge_mod)[-1, 50]^2))\n",
    "\n",
    "# weaker penalization\n",
    "ridge_mod$lambda[60]\n",
    "coef(ridge_mod)[, 60]\n",
    "sqrt(sum(coef(ridge_mod)[-1, 60]^2))\n",
    "\n",
    "# Add plots for change in coeff wrt lambda\n",
    "plot(grid, coef(ridge_mod)[\"AtBat\", ], log = \"x\", type = \"l\", xlab = \"lambda\")\n",
    "plot(grid, coef(ridge_mod)[\"CHits\", ], log = \"x\", type = \"l\", xlab = \"lambda\")\n",
    "\n",
    "plot(grid, coef(ridge_mod)[4, ], log = \"x\", type = \"l\", xlab = \"lambda\")\n",
    "plot(grid, coef(ridge_mod)[1, ], log = \"x\", type = \"l\", xlab = \"lambda\")\n",
    "plot(coef(ridge_mod)[1, ], type = \"l\", xlab = \"lambda\")"
   ]
  },
  {
   "cell_type": "code",
   "execution_count": 6,
   "metadata": {
    "vscode": {
     "languageId": "r"
    }
   },
   "outputs": [
    {
     "data": {
      "image/png": "[encoded data removed]",
      "text/plain": [
       "plot without title"
      ]
     },
     "metadata": {
      "image/png": {
       "height": 420,
       "width": 420
      }
     },
     "output_type": "display_data"
    },
    {
     "data": {
      "text/html": [
       "<style>\n",
       ".dl-inline {width: auto; margin:0; padding: 0}\n",
       ".dl-inline>dt, .dl-inline>dd {float: none; width: auto; display: inline-block}\n",
       ".dl-inline>dt::after {content: \":\\0020\"; padding-right: .5ex}\n",
       ".dl-inline>dt:not(:first-of-type) {padding-left: .5ex}\n",
       "</style><dl class=dl-inline><dt>(Intercept)</dt><dd>48.7661032921614</dd><dt>AtBat</dt><dd>-0.358099859376738</dd><dt>Hits</dt><dd>1.96935928646355</dd><dt>HmRun</dt><dd>-1.27824798145676</dd><dt>Runs</dt><dd>1.14589163211965</dd><dt>RBI</dt><dd>0.803829228437695</dd><dt>Walks</dt><dd>2.71618579623369</dd><dt>Years</dt><dd>-6.21831921727848</dd><dt>CAtBat</dt><dd>0.00544783719814858</dd><dt>CHits</dt><dd>0.106489514023419</dd><dt>CHmRun</dt><dd>0.624485956082649</dd><dt>CRuns</dt><dd>0.22149846376003</dd><dt>CRBI</dt><dd>0.218691380321247</dd><dt>CWalks</dt><dd>-0.150024548516928</dd><dt>LeagueN</dt><dd>45.9258855144164</dd><dt>DivisionW</dt><dd>-118.201136816368</dd><dt>PutOuts</dt><dd>0.250232154092559</dd><dt>Assists</dt><dd>0.121566461346767</dd><dt>Errors</dt><dd>-3.27859954463555</dd><dt>NewLeagueN</dt><dd>-9.4966803100267</dd></dl>\n"
      ],
      "text/latex": [
       "\\begin{description*}\n",
       "\\item[(Intercept)] 48.7661032921614\n",
       "\\item[AtBat] -0.358099859376738\n",
       "\\item[Hits] 1.96935928646355\n",
       "\\item[HmRun] -1.27824798145676\n",
       "\\item[Runs] 1.14589163211965\n",
       "\\item[RBI] 0.803829228437695\n",
       "\\item[Walks] 2.71618579623369\n",
       "\\item[Years] -6.21831921727848\n",
       "\\item[CAtBat] 0.00544783719814858\n",
       "\\item[CHits] 0.106489514023419\n",
       "\\item[CHmRun] 0.624485956082649\n",
       "\\item[CRuns] 0.22149846376003\n",
       "\\item[CRBI] 0.218691380321247\n",
       "\\item[CWalks] -0.150024548516928\n",
       "\\item[LeagueN] 45.9258855144164\n",
       "\\item[DivisionW] -118.201136816368\n",
       "\\item[PutOuts] 0.250232154092559\n",
       "\\item[Assists] 0.121566461346767\n",
       "\\item[Errors] -3.27859954463555\n",
       "\\item[NewLeagueN] -9.4966803100267\n",
       "\\end{description*}\n"
      ],
      "text/markdown": [
       "(Intercept)\n",
       ":   48.7661032921614AtBat\n",
       ":   -0.358099859376738Hits\n",
       ":   1.96935928646355HmRun\n",
       ":   -1.27824798145676Runs\n",
       ":   1.14589163211965RBI\n",
       ":   0.803829228437695Walks\n",
       ":   2.71618579623369Years\n",
       ":   -6.21831921727848CAtBat\n",
       ":   0.00544783719814858CHits\n",
       ":   0.106489514023419CHmRun\n",
       ":   0.624485956082649CRuns\n",
       ":   0.22149846376003CRBI\n",
       ":   0.218691380321247CWalks\n",
       ":   -0.150024548516928LeagueN\n",
       ":   45.9258855144164DivisionW\n",
       ":   -118.201136816368PutOuts\n",
       ":   0.250232154092559Assists\n",
       ":   0.121566461346767Errors\n",
       ":   -3.27859954463555NewLeagueN\n",
       ":   -9.4966803100267\n",
       "\n"
      ],
      "text/plain": [
       "  (Intercept)         AtBat          Hits         HmRun          Runs \n",
       " 4.876610e+01 -3.580999e-01  1.969359e+00 -1.278248e+00  1.145892e+00 \n",
       "          RBI         Walks         Years        CAtBat         CHits \n",
       " 8.038292e-01  2.716186e+00 -6.218319e+00  5.447837e-03  1.064895e-01 \n",
       "       CHmRun         CRuns          CRBI        CWalks       LeagueN \n",
       " 6.244860e-01  2.214985e-01  2.186914e-01 -1.500245e-01  4.592589e+01 \n",
       "    DivisionW       PutOuts       Assists        Errors    NewLeagueN \n",
       "-1.182011e+02  2.502322e-01  1.215665e-01 -3.278600e+00 -9.496680e+00 "
      ]
     },
     "metadata": {},
     "output_type": "display_data"
    },
    {
     "data": {
      "image/png": "[encoded data removed]",
      "text/plain": [
       "plot without title"
      ]
     },
     "metadata": {
      "image/png": {
       "height": 420,
       "width": 420
      }
     },
     "output_type": "display_data"
    }
   ],
   "source": [
    "# All together except the intercept\n",
    "matplot(grid, t(coef(ridge_mod)[-1, ]), type = \"l\", log = \"x\", xlab = \"lambda\")\n",
    "# If you plot ridge_mod then you get a very similar plot \n",
    "plot(ridge_mod,xvar=\"lambda\")\n",
    "\n",
    "# Predictions\n",
    "predict (ridge_mod ,s=50, type =\"coefficients\")[1:20 ,]"
   ]
  },
  {
   "cell_type": "code",
   "execution_count": 7,
   "metadata": {
    "vscode": {
     "languageId": "r"
    }
   },
   "outputs": [
    {
     "data": {
      "text/html": [
       "142199.150722762"
      ],
      "text/latex": [
       "142199.150722762"
      ],
      "text/markdown": [
       "142199.150722762"
      ],
      "text/plain": [
       "[1] 142199.2"
      ]
     },
     "metadata": {},
     "output_type": "display_data"
    },
    {
     "data": {
      "text/html": [
       "224669.906736192"
      ],
      "text/latex": [
       "224669.906736192"
      ],
      "text/markdown": [
       "224669.906736192"
      ],
      "text/plain": [
       "[1] 224669.9"
      ]
     },
     "metadata": {},
     "output_type": "display_data"
    },
    {
     "data": {
      "text/html": [
       "224669.833069663"
      ],
      "text/latex": [
       "224669.833069663"
      ],
      "text/markdown": [
       "224669.833069663"
      ],
      "text/plain": [
       "[1] 224669.8"
      ]
     },
     "metadata": {},
     "output_type": "display_data"
    }
   ],
   "source": [
    "# Train/Test split\n",
    "set.seed (1)\n",
    "train <- sample (1: nrow(x), nrow(x)/2)\n",
    "test <- (-train)\n",
    "y_test <- y[test]\n",
    "\n",
    "ridge_mod <- glmnet(x[train, ], y[train], alpha = 0, lambda = grid, thresh = 1e-12)\n",
    "ridge_pred <- predict(ridge_mod, s = 4, newx = x[test, ])\n",
    "# Test: MSE\n",
    "mean((ridge_pred - y_test)^2)\n",
    "\n",
    "# Intercept Model: MSE\n",
    "mean(( mean(y[train ])-y_test)^2)\n",
    "\n",
    "# Test-MSE for very large penalization\n",
    "ridge_pred <- predict (ridge_mod , s= 1e10, newx = x[test, ])\n",
    "mean((ridge_pred - y_test)^2)"
   ]
  },
  {
   "cell_type": "code",
   "execution_count": 8,
   "metadata": {
    "vscode": {
     "languageId": "r"
    }
   },
   "outputs": [
    {
     "data": {
      "text/html": [
       "168588.573185792"
      ],
      "text/latex": [
       "168588.573185792"
      ],
      "text/markdown": [
       "168588.573185792"
      ],
      "text/plain": [
       "[1] 168588.6"
      ]
     },
     "metadata": {},
     "output_type": "display_data"
    },
    {
     "data": {
      "text/html": [
       "<style>\n",
       ".dl-inline {width: auto; margin:0; padding: 0}\n",
       ".dl-inline>dt, .dl-inline>dd {float: none; width: auto; display: inline-block}\n",
       ".dl-inline>dt::after {content: \":\\0020\"; padding-right: .5ex}\n",
       ".dl-inline>dt:not(:first-of-type) {padding-left: .5ex}\n",
       "</style><dl class=dl-inline><dt>(Intercept)</dt><dd>274.014492690747</dd><dt>xAtBat</dt><dd>-0.352056238711403</dd><dt>xHits</dt><dd>-1.63766552061355</dd><dt>xHmRun</dt><dd>5.81449250200065</dd><dt>xRuns</dt><dd>1.54240534070993</dd><dt>xRBI</dt><dd>1.124335943802</dd><dt>xWalks</dt><dd>3.72868286312471</dd><dt>xYears</dt><dd>-16.3772548179459</dd><dt>xCAtBat</dt><dd>-0.641194784675228</dd><dt>xCHits</dt><dd>3.16320671090844</dd><dt>xCHmRun</dt><dd>3.40078216465375</dd><dt>xCRuns</dt><dd>-0.97394178578271</dd><dt>xCRBI</dt><dd>-0.600513751871701</dd><dt>xCWalks</dt><dd>0.337872149083173</dd><dt>xLeagueN</dt><dd>119.148632923396</dd><dt>xDivisionW</dt><dd>-144.083110191368</dd><dt>xPutOuts</dt><dd>0.197633222455599</dd><dt>xAssists</dt><dd>0.680434127756789</dd><dt>xErrors</dt><dd>-4.71276887408719</dd><dt>xNewLeagueN</dt><dd>-71.0951127138687</dd></dl>\n"
      ],
      "text/latex": [
       "\\begin{description*}\n",
       "\\item[(Intercept)] 274.014492690747\n",
       "\\item[xAtBat] -0.352056238711403\n",
       "\\item[xHits] -1.63766552061355\n",
       "\\item[xHmRun] 5.81449250200065\n",
       "\\item[xRuns] 1.54240534070993\n",
       "\\item[xRBI] 1.124335943802\n",
       "\\item[xWalks] 3.72868286312471\n",
       "\\item[xYears] -16.3772548179459\n",
       "\\item[xCAtBat] -0.641194784675228\n",
       "\\item[xCHits] 3.16320671090844\n",
       "\\item[xCHmRun] 3.40078216465375\n",
       "\\item[xCRuns] -0.97394178578271\n",
       "\\item[xCRBI] -0.600513751871701\n",
       "\\item[xCWalks] 0.337872149083173\n",
       "\\item[xLeagueN] 119.148632923396\n",
       "\\item[xDivisionW] -144.083110191368\n",
       "\\item[xPutOuts] 0.197633222455599\n",
       "\\item[xAssists] 0.680434127756789\n",
       "\\item[xErrors] -4.71276887408719\n",
       "\\item[xNewLeagueN] -71.0951127138687\n",
       "\\end{description*}\n"
      ],
      "text/markdown": [
       "(Intercept)\n",
       ":   274.014492690747xAtBat\n",
       ":   -0.352056238711403xHits\n",
       ":   -1.63766552061355xHmRun\n",
       ":   5.81449250200065xRuns\n",
       ":   1.54240534070993xRBI\n",
       ":   1.124335943802xWalks\n",
       ":   3.72868286312471xYears\n",
       ":   -16.3772548179459xCAtBat\n",
       ":   -0.641194784675228xCHits\n",
       ":   3.16320671090844xCHmRun\n",
       ":   3.40078216465375xCRuns\n",
       ":   -0.97394178578271xCRBI\n",
       ":   -0.600513751871701xCWalks\n",
       ":   0.337872149083173xLeagueN\n",
       ":   119.148632923396xDivisionW\n",
       ":   -144.083110191368xPutOuts\n",
       ":   0.197633222455599xAssists\n",
       ":   0.680434127756789xErrors\n",
       ":   -4.71276887408719xNewLeagueN\n",
       ":   -71.0951127138687\n",
       "\n"
      ],
      "text/plain": [
       " (Intercept)       xAtBat        xHits       xHmRun        xRuns         xRBI \n",
       " 274.0144927   -0.3520562   -1.6376655    5.8144925    1.5424053    1.1243359 \n",
       "      xWalks       xYears      xCAtBat       xCHits      xCHmRun       xCRuns \n",
       "   3.7286829  -16.3772548   -0.6411948    3.1632067    3.4007822   -0.9739418 \n",
       "       xCRBI      xCWalks     xLeagueN   xDivisionW     xPutOuts     xAssists \n",
       "  -0.6005138    0.3378721  119.1486329 -144.0831102    0.1976332    0.6804341 \n",
       "     xErrors  xNewLeagueN \n",
       "  -4.7127689  -71.0951127 "
      ]
     },
     "metadata": {},
     "output_type": "display_data"
    },
    {
     "data": {
      "text/html": [
       "<style>\n",
       ".dl-inline {width: auto; margin:0; padding: 0}\n",
       ".dl-inline>dt, .dl-inline>dd {float: none; width: auto; display: inline-block}\n",
       ".dl-inline>dt::after {content: \":\\0020\"; padding-right: .5ex}\n",
       ".dl-inline>dt:not(:first-of-type) {padding-left: .5ex}\n",
       "</style><dl class=dl-inline><dt>(Intercept)</dt><dd>274.020099411181</dd><dt>AtBat</dt><dd>-0.352190040359275</dd><dt>Hits</dt><dd>-1.63713831624211</dd><dt>HmRun</dt><dd>5.81466916444909</dd><dt>Runs</dt><dd>1.54233614804138</dd><dt>RBI</dt><dd>1.12418373819325</dd><dt>Walks</dt><dd>3.72884063254243</dd><dt>Years</dt><dd>-16.3795195276087</dd><dt>CAtBat</dt><dd>-0.641123531289685</dd><dt>CHits</dt><dd>3.16294442513075</dd><dt>CHmRun</dt><dd>3.40052810127095</dd><dt>CRuns</dt><dd>-0.97394054511287</dd><dt>CRBI</dt><dd>-0.600397639660946</dd><dt>CWalks</dt><dd>0.337842206934145</dd><dt>LeagueN</dt><dd>119.143463714458</dd><dt>DivisionW</dt><dd>-144.085306139926</dd><dt>PutOuts</dt><dd>0.197630005419203</dd><dt>Assists</dt><dd>0.680420043718981</dd><dt>Errors</dt><dd>-4.7127879020992</dd><dt>NewLeagueN</dt><dd>-71.0898913709107</dd></dl>\n"
      ],
      "text/latex": [
       "\\begin{description*}\n",
       "\\item[(Intercept)] 274.020099411181\n",
       "\\item[AtBat] -0.352190040359275\n",
       "\\item[Hits] -1.63713831624211\n",
       "\\item[HmRun] 5.81466916444909\n",
       "\\item[Runs] 1.54233614804138\n",
       "\\item[RBI] 1.12418373819325\n",
       "\\item[Walks] 3.72884063254243\n",
       "\\item[Years] -16.3795195276087\n",
       "\\item[CAtBat] -0.641123531289685\n",
       "\\item[CHits] 3.16294442513075\n",
       "\\item[CHmRun] 3.40052810127095\n",
       "\\item[CRuns] -0.97394054511287\n",
       "\\item[CRBI] -0.600397639660946\n",
       "\\item[CWalks] 0.337842206934145\n",
       "\\item[LeagueN] 119.143463714458\n",
       "\\item[DivisionW] -144.085306139926\n",
       "\\item[PutOuts] 0.197630005419203\n",
       "\\item[Assists] 0.680420043718981\n",
       "\\item[Errors] -4.7127879020992\n",
       "\\item[NewLeagueN] -71.0898913709107\n",
       "\\end{description*}\n"
      ],
      "text/markdown": [
       "(Intercept)\n",
       ":   274.020099411181AtBat\n",
       ":   -0.352190040359275Hits\n",
       ":   -1.63713831624211HmRun\n",
       ":   5.81466916444909Runs\n",
       ":   1.54233614804138RBI\n",
       ":   1.12418373819325Walks\n",
       ":   3.72884063254243Years\n",
       ":   -16.3795195276087CAtBat\n",
       ":   -0.641123531289685CHits\n",
       ":   3.16294442513075CHmRun\n",
       ":   3.40052810127095CRuns\n",
       ":   -0.97394054511287CRBI\n",
       ":   -0.600397639660946CWalks\n",
       ":   0.337842206934145LeagueN\n",
       ":   119.143463714458DivisionW\n",
       ":   -144.085306139926PutOuts\n",
       ":   0.197630005419203Assists\n",
       ":   0.680420043718981Errors\n",
       ":   -4.7127879020992NewLeagueN\n",
       ":   -71.0898913709107\n",
       "\n"
      ],
      "text/plain": [
       " (Intercept)        AtBat         Hits        HmRun         Runs          RBI \n",
       " 274.0200994   -0.3521900   -1.6371383    5.8146692    1.5423361    1.1241837 \n",
       "       Walks        Years       CAtBat        CHits       CHmRun        CRuns \n",
       "   3.7288406  -16.3795195   -0.6411235    3.1629444    3.4005281   -0.9739405 \n",
       "        CRBI       CWalks      LeagueN    DivisionW      PutOuts      Assists \n",
       "  -0.6003976    0.3378422  119.1434637 -144.0853061    0.1976300    0.6804200 \n",
       "      Errors   NewLeagueN \n",
       "  -4.7127879  -71.0898914 "
      ]
     },
     "metadata": {},
     "output_type": "display_data"
    }
   ],
   "source": [
    "# Comparison with OLS regression:\n",
    "ridge_pred <- predict(ridge_mod, s = 0, newx = x[test, ], exact = TRUE, \n",
    "                      x = x[train, ], y = y[train])\n",
    "mean((ridge_pred - y_test)^2)\n",
    "lm(y ~ x, subset =train)$coefficients\n",
    "predict(ridge_mod, s = 0, exact = TRUE, x = x[train, ], \n",
    "        y = y[train], type = \"coefficients\")[1:20, ]"
   ]
  },
  {
   "cell_type": "code",
   "execution_count": 9,
   "metadata": {
    "vscode": {
     "languageId": "r"
    }
   },
   "outputs": [
    {
     "data": {
      "text/html": [
       "326.082786511725"
      ],
      "text/latex": [
       "326.082786511725"
      ],
      "text/markdown": [
       "326.082786511725"
      ],
      "text/plain": [
       "[1] 326.0828"
      ]
     },
     "metadata": {},
     "output_type": "display_data"
    },
    {
     "data": {
      "text/html": [
       "139856.643477362"
      ],
      "text/latex": [
       "139856.643477362"
      ],
      "text/markdown": [
       "139856.643477362"
      ],
      "text/plain": [
       "[1] 139856.6"
      ]
     },
     "metadata": {},
     "output_type": "display_data"
    },
    {
     "data": {
      "text/html": [
       "<style>\n",
       ".dl-inline {width: auto; margin:0; padding: 0}\n",
       ".dl-inline>dt, .dl-inline>dd {float: none; width: auto; display: inline-block}\n",
       ".dl-inline>dt::after {content: \":\\0020\"; padding-right: .5ex}\n",
       ".dl-inline>dt:not(:first-of-type) {padding-left: .5ex}\n",
       "</style><dl class=dl-inline><dt>(Intercept)</dt><dd>15.443831197812</dd><dt>AtBat</dt><dd>0.0771554743847953</dd><dt>Hits</dt><dd>0.859115815939879</dd><dt>HmRun</dt><dd>0.601031063576297</dd><dt>Runs</dt><dd>1.06369006736739</dd><dt>RBI</dt><dd>0.879361053371413</dd><dt>Walks</dt><dd>1.62444616530649</dd><dt>Years</dt><dd>1.35254778033279</dd><dt>CAtBat</dt><dd>0.0113499915103999</dd><dt>CHits</dt><dd>0.0574665440609397</dd><dt>CHmRun</dt><dd>0.406801567085269</dd><dt>CRuns</dt><dd>0.114562244498519</dd><dt>CRBI</dt><dd>0.121165038074432</dd><dt>CWalks</dt><dd>0.0529920196388892</dd><dt>LeagueN</dt><dd>22.091431966137</dd><dt>DivisionW</dt><dd>-79.0403265601878</dd><dt>PutOuts</dt><dd>0.166199027863528</dd><dt>Assists</dt><dd>0.0294194958898915</dd><dt>Errors</dt><dd>-1.36092945499973</dd><dt>NewLeagueN</dt><dd>9.12487765463168</dd></dl>\n"
      ],
      "text/latex": [
       "\\begin{description*}\n",
       "\\item[(Intercept)] 15.443831197812\n",
       "\\item[AtBat] 0.0771554743847953\n",
       "\\item[Hits] 0.859115815939879\n",
       "\\item[HmRun] 0.601031063576297\n",
       "\\item[Runs] 1.06369006736739\n",
       "\\item[RBI] 0.879361053371413\n",
       "\\item[Walks] 1.62444616530649\n",
       "\\item[Years] 1.35254778033279\n",
       "\\item[CAtBat] 0.0113499915103999\n",
       "\\item[CHits] 0.0574665440609397\n",
       "\\item[CHmRun] 0.406801567085269\n",
       "\\item[CRuns] 0.114562244498519\n",
       "\\item[CRBI] 0.121165038074432\n",
       "\\item[CWalks] 0.0529920196388892\n",
       "\\item[LeagueN] 22.091431966137\n",
       "\\item[DivisionW] -79.0403265601878\n",
       "\\item[PutOuts] 0.166199027863528\n",
       "\\item[Assists] 0.0294194958898915\n",
       "\\item[Errors] -1.36092945499973\n",
       "\\item[NewLeagueN] 9.12487765463168\n",
       "\\end{description*}\n"
      ],
      "text/markdown": [
       "(Intercept)\n",
       ":   15.443831197812AtBat\n",
       ":   0.0771554743847953Hits\n",
       ":   0.859115815939879HmRun\n",
       ":   0.601031063576297Runs\n",
       ":   1.06369006736739RBI\n",
       ":   0.879361053371413Walks\n",
       ":   1.62444616530649Years\n",
       ":   1.35254778033279CAtBat\n",
       ":   0.0113499915103999CHits\n",
       ":   0.0574665440609397CHmRun\n",
       ":   0.406801567085269CRuns\n",
       ":   0.114562244498519CRBI\n",
       ":   0.121165038074432CWalks\n",
       ":   0.0529920196388892LeagueN\n",
       ":   22.091431966137DivisionW\n",
       ":   -79.0403265601878PutOuts\n",
       ":   0.166199027863528Assists\n",
       ":   0.0294194958898915Errors\n",
       ":   -1.36092945499973NewLeagueN\n",
       ":   9.12487765463168\n",
       "\n"
      ],
      "text/plain": [
       " (Intercept)        AtBat         Hits        HmRun         Runs          RBI \n",
       " 15.44383120   0.07715547   0.85911582   0.60103106   1.06369007   0.87936105 \n",
       "       Walks        Years       CAtBat        CHits       CHmRun        CRuns \n",
       "  1.62444617   1.35254778   0.01134999   0.05746654   0.40680157   0.11456224 \n",
       "        CRBI       CWalks      LeagueN    DivisionW      PutOuts      Assists \n",
       "  0.12116504   0.05299202  22.09143197 -79.04032656   0.16619903   0.02941950 \n",
       "      Errors   NewLeagueN \n",
       " -1.36092945   9.12487765 "
      ]
     },
     "metadata": {},
     "output_type": "display_data"
    },
    {
     "data": {
      "image/png": "[encoded data removed]",
      "text/plain": [
       "plot without title"
      ]
     },
     "metadata": {
      "image/png": {
       "height": 420,
       "width": 420
      }
     },
     "output_type": "display_data"
    }
   ],
   "source": [
    "# 02b: Ridge CV: ---------------------------------------------------------------\n",
    "set.seed (1)\n",
    "cv_out <- cv.glmnet(x[train, ], y[train], alpha = 0)\n",
    "plot(cv_out)\n",
    "bestlam = cv_out$lambda.min\n",
    "bestlam\n",
    "\n",
    "ridge_pred <- predict(ridge_mod, s = bestlam, newx = x[test, ])\n",
    "mean((ridge_pred - y_test)^2)\n",
    "\n",
    "out <- glmnet (x, y, alpha = 0)\n",
    "predict(out, type = \"coefficients\", s = bestlam )[1:20, ]"
   ]
  },
  {
   "cell_type": "code",
   "execution_count": 10,
   "metadata": {
    "vscode": {
     "languageId": "r"
    }
   },
   "outputs": [
    {
     "name": "stderr",
     "output_type": "stream",
     "text": [
      "Warning message in regularize.values(x, y, ties, missing(ties), na.rm = na.rm):\n",
      "\"collapsing to unique 'x' values\"\n"
     ]
    },
    {
     "data": {
      "image/png": "[encoded data removed]",
      "text/plain": [
       "plot without title"
      ]
     },
     "metadata": {
      "image/png": {
       "height": 420,
       "width": 420
      }
     },
     "output_type": "display_data"
    },
    {
     "data": {
      "text/html": [
       "9.28695472064886"
      ],
      "text/latex": [
       "9.28695472064886"
      ],
      "text/markdown": [
       "9.28695472064886"
      ],
      "text/plain": [
       "[1] 9.286955"
      ]
     },
     "metadata": {},
     "output_type": "display_data"
    },
    {
     "data": {
      "text/html": [
       "143673.618543046"
      ],
      "text/latex": [
       "143673.618543046"
      ],
      "text/markdown": [
       "143673.618543046"
      ],
      "text/plain": [
       "[1] 143673.6"
      ]
     },
     "metadata": {},
     "output_type": "display_data"
    },
    {
     "data": {
      "text/html": [
       "<style>\n",
       ".dl-inline {width: auto; margin:0; padding: 0}\n",
       ".dl-inline>dt, .dl-inline>dd {float: none; width: auto; display: inline-block}\n",
       ".dl-inline>dt::after {content: \":\\0020\"; padding-right: .5ex}\n",
       ".dl-inline>dt:not(:first-of-type) {padding-left: .5ex}\n",
       "</style><dl class=dl-inline><dt>(Intercept)</dt><dd>1.27479059110101</dd><dt>AtBat</dt><dd>-0.0549714273315139</dd><dt>Hits</dt><dd>2.18034583361293</dd><dt>HmRun</dt><dd>0</dd><dt>Runs</dt><dd>0</dd><dt>RBI</dt><dd>0</dd><dt>Walks</dt><dd>2.29192406458188</dd><dt>Years</dt><dd>-0.338061091665017</dd><dt>CAtBat</dt><dd>0</dd><dt>CHits</dt><dd>0</dd><dt>CHmRun</dt><dd>0.0282501287940404</dd><dt>CRuns</dt><dd>0.216283849067602</dd><dt>CRBI</dt><dd>0.41712536764542</dd><dt>CWalks</dt><dd>0</dd><dt>LeagueN</dt><dd>20.2861502310741</dd><dt>DivisionW</dt><dd>-116.167558696372</dd><dt>PutOuts</dt><dd>0.237523845868754</dd><dt>Assists</dt><dd>0</dd><dt>Errors</dt><dd>-0.856291484604434</dd><dt>NewLeagueN</dt><dd>0</dd></dl>\n"
      ],
      "text/latex": [
       "\\begin{description*}\n",
       "\\item[(Intercept)] 1.27479059110101\n",
       "\\item[AtBat] -0.0549714273315139\n",
       "\\item[Hits] 2.18034583361293\n",
       "\\item[HmRun] 0\n",
       "\\item[Runs] 0\n",
       "\\item[RBI] 0\n",
       "\\item[Walks] 2.29192406458188\n",
       "\\item[Years] -0.338061091665017\n",
       "\\item[CAtBat] 0\n",
       "\\item[CHits] 0\n",
       "\\item[CHmRun] 0.0282501287940404\n",
       "\\item[CRuns] 0.216283849067602\n",
       "\\item[CRBI] 0.41712536764542\n",
       "\\item[CWalks] 0\n",
       "\\item[LeagueN] 20.2861502310741\n",
       "\\item[DivisionW] -116.167558696372\n",
       "\\item[PutOuts] 0.237523845868754\n",
       "\\item[Assists] 0\n",
       "\\item[Errors] -0.856291484604434\n",
       "\\item[NewLeagueN] 0\n",
       "\\end{description*}\n"
      ],
      "text/markdown": [
       "(Intercept)\n",
       ":   1.27479059110101AtBat\n",
       ":   -0.0549714273315139Hits\n",
       ":   2.18034583361293HmRun\n",
       ":   0Runs\n",
       ":   0RBI\n",
       ":   0Walks\n",
       ":   2.29192406458188Years\n",
       ":   -0.338061091665017CAtBat\n",
       ":   0CHits\n",
       ":   0CHmRun\n",
       ":   0.0282501287940404CRuns\n",
       ":   0.216283849067602CRBI\n",
       ":   0.41712536764542CWalks\n",
       ":   0LeagueN\n",
       ":   20.2861502310741DivisionW\n",
       ":   -116.167558696372PutOuts\n",
       ":   0.237523845868754Assists\n",
       ":   0Errors\n",
       ":   -0.856291484604434NewLeagueN\n",
       ":   0\n",
       "\n"
      ],
      "text/plain": [
       "  (Intercept)         AtBat          Hits         HmRun          Runs \n",
       "   1.27479059   -0.05497143    2.18034583    0.00000000    0.00000000 \n",
       "          RBI         Walks         Years        CAtBat         CHits \n",
       "   0.00000000    2.29192406   -0.33806109    0.00000000    0.00000000 \n",
       "       CHmRun         CRuns          CRBI        CWalks       LeagueN \n",
       "   0.02825013    0.21628385    0.41712537    0.00000000   20.28615023 \n",
       "    DivisionW       PutOuts       Assists        Errors    NewLeagueN \n",
       "-116.16755870    0.23752385    0.00000000   -0.85629148    0.00000000 "
      ]
     },
     "metadata": {},
     "output_type": "display_data"
    },
    {
     "data": {
      "text/html": [
       "<style>\n",
       ".dl-inline {width: auto; margin:0; padding: 0}\n",
       ".dl-inline>dt, .dl-inline>dd {float: none; width: auto; display: inline-block}\n",
       ".dl-inline>dt::after {content: \":\\0020\"; padding-right: .5ex}\n",
       ".dl-inline>dt:not(:first-of-type) {padding-left: .5ex}\n",
       "</style><dl class=dl-inline><dt>(Intercept)</dt><dd>1.27479059110101</dd><dt>AtBat</dt><dd>-0.0549714273315139</dd><dt>Hits</dt><dd>2.18034583361293</dd><dt>Walks</dt><dd>2.29192406458188</dd><dt>Years</dt><dd>-0.338061091665017</dd><dt>CHmRun</dt><dd>0.0282501287940404</dd><dt>CRuns</dt><dd>0.216283849067602</dd><dt>CRBI</dt><dd>0.41712536764542</dd><dt>LeagueN</dt><dd>20.2861502310741</dd><dt>DivisionW</dt><dd>-116.167558696372</dd><dt>PutOuts</dt><dd>0.237523845868754</dd><dt>Errors</dt><dd>-0.856291484604434</dd></dl>\n"
      ],
      "text/latex": [
       "\\begin{description*}\n",
       "\\item[(Intercept)] 1.27479059110101\n",
       "\\item[AtBat] -0.0549714273315139\n",
       "\\item[Hits] 2.18034583361293\n",
       "\\item[Walks] 2.29192406458188\n",
       "\\item[Years] -0.338061091665017\n",
       "\\item[CHmRun] 0.0282501287940404\n",
       "\\item[CRuns] 0.216283849067602\n",
       "\\item[CRBI] 0.41712536764542\n",
       "\\item[LeagueN] 20.2861502310741\n",
       "\\item[DivisionW] -116.167558696372\n",
       "\\item[PutOuts] 0.237523845868754\n",
       "\\item[Errors] -0.856291484604434\n",
       "\\end{description*}\n"
      ],
      "text/markdown": [
       "(Intercept)\n",
       ":   1.27479059110101AtBat\n",
       ":   -0.0549714273315139Hits\n",
       ":   2.18034583361293Walks\n",
       ":   2.29192406458188Years\n",
       ":   -0.338061091665017CHmRun\n",
       ":   0.0282501287940404CRuns\n",
       ":   0.216283849067602CRBI\n",
       ":   0.41712536764542LeagueN\n",
       ":   20.2861502310741DivisionW\n",
       ":   -116.167558696372PutOuts\n",
       ":   0.237523845868754Errors\n",
       ":   -0.856291484604434\n",
       "\n"
      ],
      "text/plain": [
       "  (Intercept)         AtBat          Hits         Walks         Years \n",
       "   1.27479059   -0.05497143    2.18034583    2.29192406   -0.33806109 \n",
       "       CHmRun         CRuns          CRBI       LeagueN     DivisionW \n",
       "   0.02825013    0.21628385    0.41712537   20.28615023 -116.16755870 \n",
       "      PutOuts        Errors \n",
       "   0.23752385   -0.85629148 "
      ]
     },
     "metadata": {},
     "output_type": "display_data"
    },
    {
     "data": {
      "image/png": "[encoded data removed]",
      "text/plain": [
       "plot without title"
      ]
     },
     "metadata": {
      "image/png": {
       "height": 420,
       "width": 420
      }
     },
     "output_type": "display_data"
    }
   ],
   "source": [
    "# 03: Lasso --------------------------------------------------------------------\n",
    "lasso_mod <- glmnet(x[train, ], y[train], alpha = 1,lambda = grid)\n",
    "plot(lasso_mod)\n",
    "\n",
    "# 03b: Lasso CV: ---------------------------------------------------------------\n",
    "set.seed (1)\n",
    "cv_out <- cv.glmnet(x[train, ], y[train], alpha = 1)\n",
    "plot(cv_out)\n",
    "bestlam <- cv_out$lambda.min\n",
    "bestlam\n",
    "lasso.pred <- predict(lasso_mod, s = bestlam, newx = x[test, ])\n",
    "mean((lasso.pred - y_test)^2)\n",
    "\n",
    "out <- glmnet(x, y, alpha = 1, lambda = grid)\n",
    "lasso_coef <- predict(out, type = \"coefficients\", s = bestlam)[1:20, ]\n",
    "lasso_coef\n",
    "lasso_coef[lasso_coef !=0]"
   ]
  },
  {
   "cell_type": "code",
   "execution_count": 12,
   "metadata": {
    "vscode": {
     "languageId": "r"
    }
   },
   "outputs": [
    {
     "ename": "ERROR",
     "evalue": "Error in eval(predvars, data, env): object 'horsepower' not found\n",
     "output_type": "error",
     "traceback": [
      "Error in eval(predvars, data, env): object 'horsepower' not found\nTraceback:\n",
      "1. model.matrix(mpg ~ horsepower + I(horsepower^2) + cylinders + \n .     displacement + weight + acceleration + year, mtcars)",
      "2. model.matrix.default(mpg ~ horsepower + I(horsepower^2) + cylinders + \n .     displacement + weight + acceleration + year, mtcars)",
      "3. model.frame(object, data, xlev = xlev)",
      "4. model.frame.default(object, data, xlev = xlev)",
      "5. eval(predvars, data, env)",
      "6. eval(predvars, data, env)"
     ]
    }
   ],
   "source": [
    "####################\n",
    "#\n",
    "#now with Auto\n",
    "\n",
    "x=model.matrix (mpg~horsepower+I(horsepower ^2)+\n",
    "                  cylinders+displacement+weight+acceleration\n",
    "                +year,mtcars)[,-1]\n",
    "y=mtcars$mpg\n",
    "grid =10^ seq (10,-2, length =100)\n",
    "\n",
    "data(\"mtcars\")\n",
    "x <- model.matrix(mpg ~ hp + I(hp^2) + cyl + disp + drat + wt + qsec + vs +\n",
    "                    am + gear + carb,\n",
    "                  data = mtcars)[, -1]\n",
    "\n",
    "y <- mtcars$mpg\n",
    "grid <- 10^seq(10, -2, length = 100)\n",
    "\n",
    "#alpha=0 -> Ridge Regression\n",
    "ridge_mod =glmnet (x,y,alpha =0, lambda =grid)\n",
    "dim(coef(ridge_mod ))\n",
    "ridge_mod$lambda[50]\n",
    "coef(ridge_mod)[,50]\n",
    "##sum of squared parameters for this lambda \n",
    "sqrt(sum(coef(ridge_mod)[ -1 ,50]^2))\n",
    "\n",
    "ridge_mod$lambda [60]\n",
    "coef(ridge_mod)[,60]\n",
    "sqrt(sum(coef(ridge_mod)[ -1 ,60]^2) )\n",
    "\n",
    "plot(grid,coef(ridge_mod)[\"hp\",],log=\"x\",type=\"l\",xlab=\"lambda\")\n",
    "plot(grid,coef(ridge_mod)[\"qsec\",],log=\"x\",type=\"l\",xlab=\"lambda\")\n",
    "\n",
    "#cylinders coefficient\n",
    "plot(grid,coef(ridge_mod)[\"cyl\",],log=\"x\",type=\"l\",xlab=\"lambda\")\n",
    "#intercept coefficient\n",
    "plot(grid,coef(ridge_mod)[\"(Intercept)\",],log=\"x\",type=\"l\",xlab=\"lambda\")\n",
    "\n",
    "#all coefficients\n",
    "matplot(grid,t(coef(ridge_mod)[-1,]),type=\"l\",log=\"x\",xlab=\"lambda\")\n",
    "#similar plot provided by glmnet \n",
    "plot(ridge_mod,xvar=\"lambda\")\n",
    "\n",
    "#coefficients when lambda=50 (s=50) \n",
    "predict(ridge_mod ,s=50, type =\"coefficients\")[1:8 ,]\n",
    "\n",
    "#fit using a training set and compare using the test data set\n",
    "set.seed (1)\n",
    "train=sample (1: nrow(x), nrow(x)/2)\n",
    "test=(-train)\n",
    "y_test=y[test]\n",
    "ridge_mod =glmnet (x[train ,],y[train],alpha =0, lambda =grid ,\n",
    "                   thresh =1e-12)\n",
    "##predictions on test data when lambda=4\n",
    "ridge_pred=predict (ridge_mod ,s=4, newx=x[test ,])\n",
    "##MSE-test when lambda=4\n",
    "mean(( ridge_pred -y_test)^2)\n",
    "\n",
    "\n",
    "##MSE-test when lambda=infinity (null model)\n",
    "mean(( mean(y[train ])-y_test)^2)\n",
    "\n",
    "rpMSE<-rep(NA,100)\n",
    "for(i in 1:100){\n",
    "  #predict  type=\"coefficients\" output the coefficients for this value lambda (s)\n",
    "  #         newx= test x data predicted values\n",
    "  ridge_pred=predict (ridge_mod ,s=grid[i], newx=x[test ,])\n",
    "  rpMSE[i]<-   mean(( ridge_pred -y_test)^2)\n",
    "}\n",
    "#The MSE-Test for different values of lambda\n",
    "plot(grid,rpMSE,log=\"x\",type=\"l\")\n",
    "#Note that the minimum is near to zero\n",
    "\n",
    "#When lamda very large we get the same  MSE-Train as when we \n",
    "#take the mean of the y values directly\n",
    "ridge_pred=predict (ridge_mod ,s=1e10 ,newx=x[test ,])\n",
    "mean((ridge_pred -y_test)^2)\n",
    "\n",
    "\n",
    "#fit a \"ridge regression\" for lambda=0\n",
    "\n",
    "#error in book below\n",
    "ridge_pred=predict (ridge_mod ,s=0, newx=x[test ,], exact=T)\n",
    "#error in book above \n",
    "##use the following command instead\n",
    "\n",
    "ridge_pred=predict(ridge_mod ,s=0, newx=x[test ,], exact=T,x=x[train ,],y=y[train])\n",
    "mean((ridge_pred -y_test)^2)\n",
    "\n",
    "\n",
    "#CV\n",
    "set.seed (1)\n",
    "#use the default set of lambdas\n",
    "cv_out =cv.glmnet(x[train ,],y[train],alpha =0)\n",
    "plot(cv_out)\n",
    "###minimum CV-MSE is by the smallest value of lambda \n",
    "bestlam =cv_out$lambda.min\n",
    "bestlam\n",
    "range(cv_out$lambda)\n",
    "#bestlam is the smallest value of lambda, not good \n",
    "\n",
    "#try with another lambda-grid with a much lower starting value\n",
    "grid2 =seq (0.00001,1.0, length =100)\n",
    "cv_out =cv.glmnet(x[train ,],y[train],lambda=grid2,alpha =0)\n",
    "plot(cv_out)\n",
    "bestlam =cv_out$lambda.min\n",
    "bestlam\n",
    "range(cv_out$lambda)\n",
    "#bestlam is still the smallest value of lambda used, not good \n",
    "\n",
    "#it looks like lambda=0 is the best lambda\n",
    "ridge_pred=predict(ridge_mod ,s=0, newx=x[test ,], exact=T,x=x[train ,],y=y[train])\n",
    "mean((ridge_pred -y_test)^2)\n",
    "###8.49\n",
    "lm.obj<-lm(mpg~horsepower+I(horsepower ^2)+\n",
    "             cylinders+displacement+weight+acceleration\n",
    "           +year,data=Auto,subset=train)\n",
    "lse.pred<-predict.lm(lm.obj,Auto[test,])\n",
    "mean((lse.pred-y_test)^2)\n",
    "###8.49\n",
    "\n",
    "\n",
    "####now quickly run through the same using the lasso (alpha=1)\n",
    "lasso_mod =glmnet (x[train ,],y[train],alpha =1, lambda =grid)\n",
    "plot(lasso_mod,xvar=\"lambda\")\n",
    "\n",
    "\n",
    "set.seed (1)\n",
    "cv_out =cv.glmnet (x[train ,],y[train],alpha =1)\n",
    "plot(cv_out)\n",
    "cv_out =cv.glmnet (x[train ,],y[train],alpha =1,lambda=grid2)\n",
    "plot(cv_out)\n",
    "bestlam =cv_out$lambda.min\n",
    "bestlam\n",
    "#so again the best lambda is equal to 0 -> least squares regression \n",
    "#and the same results as with ridge regression  \n",
    "\n",
    "###lm. model from cross validation model selection \n",
    "### workshop 5\n",
    "## fitted using these training data\n",
    "lm.cv.obj<-lm(mpg~horsepower +I(horsepower ^2)+ year + weight\n",
    "              ,data=Auto,subset=train)\n",
    "select.pred<-predict.lm(lm.cv.obj,Auto[test,])\n",
    "###Test MSE using model selection\n",
    "mean((select.pred-y_test)^2)\n",
    "###Test MSE using least squares/shrinkage methods\n",
    "mean((lse.pred-y_test)^2)\n",
    "\n",
    "\n",
    "\n",
    "\n"
   ]
  },
  {
   "cell_type": "markdown",
   "metadata": {},
   "source": [
    "2.2 The mtcars data set"
   ]
  },
  {
   "cell_type": "code",
   "execution_count": 13,
   "metadata": {
    "vscode": {
     "languageId": "r"
    }
   },
   "outputs": [
    {
     "data": {
      "text/plain": [
       "      mpg             cyl             disp             hp       \n",
       " Min.   :10.40   Min.   :4.000   Min.   : 71.1   Min.   : 52.0  \n",
       " 1st Qu.:15.43   1st Qu.:4.000   1st Qu.:120.8   1st Qu.: 96.5  \n",
       " Median :19.20   Median :6.000   Median :196.3   Median :123.0  \n",
       " Mean   :20.09   Mean   :6.188   Mean   :230.7   Mean   :146.7  \n",
       " 3rd Qu.:22.80   3rd Qu.:8.000   3rd Qu.:326.0   3rd Qu.:180.0  \n",
       " Max.   :33.90   Max.   :8.000   Max.   :472.0   Max.   :335.0  \n",
       "      drat             wt             qsec             vs        \n",
       " Min.   :2.760   Min.   :1.513   Min.   :14.50   Min.   :0.0000  \n",
       " 1st Qu.:3.080   1st Qu.:2.581   1st Qu.:16.89   1st Qu.:0.0000  \n",
       " Median :3.695   Median :3.325   Median :17.71   Median :0.0000  \n",
       " Mean   :3.597   Mean   :3.217   Mean   :17.85   Mean   :0.4375  \n",
       " 3rd Qu.:3.920   3rd Qu.:3.610   3rd Qu.:18.90   3rd Qu.:1.0000  \n",
       " Max.   :4.930   Max.   :5.424   Max.   :22.90   Max.   :1.0000  \n",
       "       am              gear            carb      \n",
       " Min.   :0.0000   Min.   :3.000   Min.   :1.000  \n",
       " 1st Qu.:0.0000   1st Qu.:3.000   1st Qu.:2.000  \n",
       " Median :0.0000   Median :4.000   Median :2.000  \n",
       " Mean   :0.4062   Mean   :3.688   Mean   :2.812  \n",
       " 3rd Qu.:1.0000   3rd Qu.:4.000   3rd Qu.:4.000  \n",
       " Max.   :1.0000   Max.   :5.000   Max.   :8.000  "
      ]
     },
     "metadata": {},
     "output_type": "display_data"
    }
   ],
   "source": [
    "#==============================================================================#\n",
    "# Shrinkage Regression: mtcars data set                                        #\n",
    "#==============================================================================#\n",
    "rm(list = ls(all.names = TRUE))\n",
    "\n",
    "# 00: packages -----------------------------------------------------------------\n",
    "library(glmnet)\n",
    "library (ISLR2)\n",
    "\n",
    "# 01: data preparation ---------------------------------------------------------\n",
    "data(\"mtcars\")\n",
    "summary(mtcars)"
   ]
  },
  {
   "cell_type": "code",
   "execution_count": 14,
   "metadata": {
    "vscode": {
     "languageId": "r"
    }
   },
   "outputs": [
    {
     "data": {
      "image/png": "[encoded data removed]",
      "text/plain": [
       "Plot with title \"Histogram of mtcars$mpg\""
      ]
     },
     "metadata": {
      "image/png": {
       "height": 420,
       "width": 420
      }
     },
     "output_type": "display_data"
    },
    {
     "data": {
      "image/png": "[encoded data removed]",
      "text/plain": [
       "plot without title"
      ]
     },
     "metadata": {
      "image/png": {
       "height": 420,
       "width": 420
      }
     },
     "output_type": "display_data"
    }
   ],
   "source": [
    "# 03: data exploration ---------------------------------------------------------\n",
    "hist(mtcars$mpg, breaks = 30)\n",
    "plot(mtcars$hp, mtcars$mpg)"
   ]
  },
  {
   "cell_type": "code",
   "execution_count": 15,
   "metadata": {
    "vscode": {
     "languageId": "r"
    }
   },
   "outputs": [
    {
     "data": {
      "text/html": [
       "<style>\n",
       ".list-inline {list-style: none; margin:0; padding: 0}\n",
       ".list-inline>li {display: inline-block}\n",
       ".list-inline>li:not(:last-child)::after {content: \"\\00b7\"; padding: 0 .5ex}\n",
       "</style>\n",
       "<ol class=list-inline><li>12</li><li>100</li></ol>\n"
      ],
      "text/latex": [
       "\\begin{enumerate*}\n",
       "\\item 12\n",
       "\\item 100\n",
       "\\end{enumerate*}\n"
      ],
      "text/markdown": [
       "1. 12\n",
       "2. 100\n",
       "\n",
       "\n"
      ],
      "text/plain": [
       "[1]  12 100"
      ]
     },
     "metadata": {},
     "output_type": "display_data"
    },
    {
     "data": {
      "text/html": [
       "11497.5699539774"
      ],
      "text/latex": [
       "11497.5699539774"
      ],
      "text/markdown": [
       "11497.5699539774"
      ],
      "text/plain": [
       "[1] 11497.57"
      ]
     },
     "metadata": {},
     "output_type": "display_data"
    },
    {
     "data": {
      "text/html": [
       "<style>\n",
       ".dl-inline {width: auto; margin:0; padding: 0}\n",
       ".dl-inline>dt, .dl-inline>dd {float: none; width: auto; display: inline-block}\n",
       ".dl-inline>dt::after {content: \":\\0020\"; padding-right: .5ex}\n",
       ".dl-inline>dt:not(:first-of-type) {padding-left: .5ex}\n",
       "</style><dl class=dl-inline><dt>(Intercept)</dt><dd>20.0859473520673</dd><dt>hp</dt><dd>-3.51074925955055e-05</dd><dt>I(hp^2)</dt><dd>-8.48092239458095e-08</dd><dt>cyl</dt><dd>-0.00147954899751385</dd><dt>disp</dt><dd>-2.12028807029866e-05</dd><dt>drat</dt><dd>0.00395019992532203</dd><dt>wt</dt><dd>-0.00274974545083664</dd><dt>qsec</dt><dd>0.00072590377464578</dd><dt>vs</dt><dd>0.00408275978545581</dd><dt>am</dt><dd>0.00372773822180406</dd><dt>gear</dt><dd>0.00201798463905386</dd><dt>carb</dt><dd>-0.00105730970127412</dd></dl>\n"
      ],
      "text/latex": [
       "\\begin{description*}\n",
       "\\item[(Intercept)] 20.0859473520673\n",
       "\\item[hp] -3.51074925955055e-05\n",
       "\\item[I(hp\\textbackslash{}textasciicircum\\{\\}2)] -8.48092239458095e-08\n",
       "\\item[cyl] -0.00147954899751385\n",
       "\\item[disp] -2.12028807029866e-05\n",
       "\\item[drat] 0.00395019992532203\n",
       "\\item[wt] -0.00274974545083664\n",
       "\\item[qsec] 0.00072590377464578\n",
       "\\item[vs] 0.00408275978545581\n",
       "\\item[am] 0.00372773822180406\n",
       "\\item[gear] 0.00201798463905386\n",
       "\\item[carb] -0.00105730970127412\n",
       "\\end{description*}\n"
      ],
      "text/markdown": [
       "(Intercept)\n",
       ":   20.0859473520673hp\n",
       ":   -3.51074925955055e-05I(hp^2)\n",
       ":   -8.48092239458095e-08cyl\n",
       ":   -0.00147954899751385disp\n",
       ":   -2.12028807029866e-05drat\n",
       ":   0.00395019992532203wt\n",
       ":   -0.00274974545083664qsec\n",
       ":   0.00072590377464578vs\n",
       ":   0.00408275978545581am\n",
       ":   0.00372773822180406gear\n",
       ":   0.00201798463905386carb\n",
       ":   -0.00105730970127412\n",
       "\n"
      ],
      "text/plain": [
       "  (Intercept)            hp       I(hp^2)           cyl          disp \n",
       " 2.008595e+01 -3.510749e-05 -8.480922e-08 -1.479549e-03 -2.120288e-05 \n",
       "         drat            wt          qsec            vs            am \n",
       " 3.950200e-03 -2.749745e-03  7.259038e-04  4.082760e-03  3.727738e-03 \n",
       "         gear          carb \n",
       " 2.017985e-03 -1.057310e-03 "
      ]
     },
     "metadata": {},
     "output_type": "display_data"
    },
    {
     "data": {
      "text/html": [
       "0.00785098647621934"
      ],
      "text/latex": [
       "0.00785098647621934"
      ],
      "text/markdown": [
       "0.00785098647621934"
      ],
      "text/plain": [
       "[1] 0.007850986"
      ]
     },
     "metadata": {},
     "output_type": "display_data"
    },
    {
     "data": {
      "text/html": [
       "705.480231071865"
      ],
      "text/latex": [
       "705.480231071865"
      ],
      "text/markdown": [
       "705.480231071865"
      ],
      "text/plain": [
       "[1] 705.4802"
      ]
     },
     "metadata": {},
     "output_type": "display_data"
    },
    {
     "data": {
      "text/html": [
       "<style>\n",
       ".dl-inline {width: auto; margin:0; padding: 0}\n",
       ".dl-inline>dt, .dl-inline>dd {float: none; width: auto; display: inline-block}\n",
       ".dl-inline>dt::after {content: \":\\0020\"; padding-right: .5ex}\n",
       ".dl-inline>dt:not(:first-of-type) {padding-left: .5ex}\n",
       "</style><dl class=dl-inline><dt>(Intercept)</dt><dd>20.0191642342558</dd><dt>hp</dt><dd>-0.000543775656275024</dd><dt>I(hp^2)</dt><dd>-1.31093700511073e-06</dd><dt>cyl</dt><dd>-0.0229291741610108</dd><dt>disp</dt><dd>-0.000328810868061399</dd><dt>drat</dt><dd>0.0613801495898661</dd><dt>wt</dt><dd>-0.0428602168978435</dd><dt>qsec</dt><dd>0.0111681008521799</dd><dt>vs</dt><dd>0.0631225341774288</dd><dt>am</dt><dd>0.0582644693338676</dd><dt>gear</dt><dd>0.0314348805106285</dd><dt>carb</dt><dd>-0.0164489443117359</dd></dl>\n"
      ],
      "text/latex": [
       "\\begin{description*}\n",
       "\\item[(Intercept)] 20.0191642342558\n",
       "\\item[hp] -0.000543775656275024\n",
       "\\item[I(hp\\textbackslash{}textasciicircum\\{\\}2)] -1.31093700511073e-06\n",
       "\\item[cyl] -0.0229291741610108\n",
       "\\item[disp] -0.000328810868061399\n",
       "\\item[drat] 0.0613801495898661\n",
       "\\item[wt] -0.0428602168978435\n",
       "\\item[qsec] 0.0111681008521799\n",
       "\\item[vs] 0.0631225341774288\n",
       "\\item[am] 0.0582644693338676\n",
       "\\item[gear] 0.0314348805106285\n",
       "\\item[carb] -0.0164489443117359\n",
       "\\end{description*}\n"
      ],
      "text/markdown": [
       "(Intercept)\n",
       ":   20.0191642342558hp\n",
       ":   -0.000543775656275024I(hp^2)\n",
       ":   -1.31093700511073e-06cyl\n",
       ":   -0.0229291741610108disp\n",
       ":   -0.000328810868061399drat\n",
       ":   0.0613801495898661wt\n",
       ":   -0.0428602168978435qsec\n",
       ":   0.0111681008521799vs\n",
       ":   0.0631225341774288am\n",
       ":   0.0582644693338676gear\n",
       ":   0.0314348805106285carb\n",
       ":   -0.0164489443117359\n",
       "\n"
      ],
      "text/plain": [
       "  (Intercept)            hp       I(hp^2)           cyl          disp \n",
       " 2.001916e+01 -5.437757e-04 -1.310937e-06 -2.292917e-02 -3.288109e-04 \n",
       "         drat            wt          qsec            vs            am \n",
       " 6.138015e-02 -4.286022e-02  1.116810e-02  6.312253e-02  5.826447e-02 \n",
       "         gear          carb \n",
       " 3.143488e-02 -1.644894e-02 "
      ]
     },
     "metadata": {},
     "output_type": "display_data"
    },
    {
     "data": {
      "text/html": [
       "0.122038192629401"
      ],
      "text/latex": [
       "0.122038192629401"
      ],
      "text/markdown": [
       "0.122038192629401"
      ],
      "text/plain": [
       "[1] 0.1220382"
      ]
     },
     "metadata": {},
     "output_type": "display_data"
    },
    {
     "data": {
      "image/png": "[encoded data removed]",
      "text/plain": [
       "plot without title"
      ]
     },
     "metadata": {
      "image/png": {
       "height": 420,
       "width": 420
      }
     },
     "output_type": "display_data"
    },
    {
     "data": {
      "image/png": "[encoded data removed]",
      "text/plain": [
       "plot without title"
      ]
     },
     "metadata": {
      "image/png": {
       "height": 420,
       "width": 420
      }
     },
     "output_type": "display_data"
    },
    {
     "data": {
      "image/png": "[encoded data removed]",
      "text/plain": [
       "plot without title"
      ]
     },
     "metadata": {
      "image/png": {
       "height": 420,
       "width": 420
      }
     },
     "output_type": "display_data"
    },
    {
     "data": {
      "image/png": "[encoded data removed]",
      "text/plain": [
       "plot without title"
      ]
     },
     "metadata": {
      "image/png": {
       "height": 420,
       "width": 420
      }
     },
     "output_type": "display_data"
    }
   ],
   "source": [
    "# 02: ridge regression ---------------------------------------------------------\n",
    "x <- model.matrix(mpg ~ hp + I(hp^2) + cyl + disp + drat + wt + qsec + vs +\n",
    "                    am + gear + carb,\n",
    "                  data = mtcars)[, -1]\n",
    "y <- mtcars$mpg\n",
    "grid <- 10^seq(10, -2, length = 100)\n",
    "ridge_mod <- glmnet(x, y, alpha = 0, lambda = grid)\n",
    "dim(coef(ridge_mod ))\n",
    "\n",
    "# strong penalization\n",
    "ridge_mod$lambda[50]\n",
    "coef(ridge_mod)[, 50]\n",
    "sqrt(sum(coef(ridge_mod)[-1, 50]^2))\n",
    "\n",
    "# weaker penalization\n",
    "ridge_mod$lambda[60]\n",
    "coef(ridge_mod)[, 60]\n",
    "sqrt(sum(coef(ridge_mod)[-1, 60]^2))\n",
    "\n",
    "# Add plots for change in coeff wrt lambda\n",
    "plot(grid, coef(ridge_mod)[\"hp\", ], log = \"x\", type = \"l\", xlab = \"lambda\")\n",
    "plot(grid, coef(ridge_mod)[\"qsec\", ], log = \"x\", type = \"l\", xlab = \"lambda\")\n",
    "plot(grid, coef(ridge_mod)[\"cyl\", ], log = \"x\", type = \"l\", xlab = \"lambda\")\n",
    "plot(grid, coef(ridge_mod)[\"(Intercept)\", ], log = \"x\", type = \"l\", xlab = \"lambda\")\n"
   ]
  },
  {
   "cell_type": "code",
   "execution_count": 16,
   "metadata": {
    "vscode": {
     "languageId": "r"
    }
   },
   "outputs": [
    {
     "data": {
      "image/png": "[encoded data removed]",
      "text/plain": [
       "plot without title"
      ]
     },
     "metadata": {
      "image/png": {
       "height": 420,
       "width": 420
      }
     },
     "output_type": "display_data"
    },
    {
     "data": {
      "image/png": "[encoded data removed]",
      "text/plain": [
       "plot without title"
      ]
     },
     "metadata": {
      "image/png": {
       "height": 420,
       "width": 420
      }
     },
     "output_type": "display_data"
    }
   ],
   "source": [
    "# All together except the intercept\n",
    "matplot(grid, t(coef(ridge_mod)[-1, ]), type = \"l\", log = \"x\", xlab = \"lambda\")\n",
    "# If you plot ridge_mod then you get a very similar plot \n",
    "plot(ridge_mod,xvar=\"lambda\")"
   ]
  },
  {
   "cell_type": "code",
   "execution_count": 17,
   "metadata": {
    "vscode": {
     "languageId": "r"
    }
   },
   "outputs": [
    {
     "data": {
      "text/html": [
       "<style>\n",
       ".dl-inline {width: auto; margin:0; padding: 0}\n",
       ".dl-inline>dt, .dl-inline>dd {float: none; width: auto; display: inline-block}\n",
       ".dl-inline>dt::after {content: \":\\0020\"; padding-right: .5ex}\n",
       ".dl-inline>dt:not(:first-of-type) {padding-left: .5ex}\n",
       "</style><dl class=dl-inline><dt>(Intercept)</dt><dd>19.627425838868</dd><dt>hp</dt><dd>-0.00456997079075792</dd><dt>I(hp^2)</dt><dd>-1.07017440208752e-05</dd><dt>cyl</dt><dd>-0.192803463293539</dd><dt>disp</dt><dd>-0.00278006479495044</dd><dt>drat</dt><dd>0.529637337578209</dd><dt>wt</dt><dd>-0.386279350081461</dd><dt>qsec</dt><dd>0.0858906951641523</dd><dt>vs</dt><dd>0.51310964871132</dd><dt>am</dt><dd>0.53810381983577</dd><dt>gear</dt><dd>0.276683754274592</dd></dl>\n"
      ],
      "text/latex": [
       "\\begin{description*}\n",
       "\\item[(Intercept)] 19.627425838868\n",
       "\\item[hp] -0.00456997079075792\n",
       "\\item[I(hp\\textbackslash{}textasciicircum\\{\\}2)] -1.07017440208752e-05\n",
       "\\item[cyl] -0.192803463293539\n",
       "\\item[disp] -0.00278006479495044\n",
       "\\item[drat] 0.529637337578209\n",
       "\\item[wt] -0.386279350081461\n",
       "\\item[qsec] 0.0858906951641523\n",
       "\\item[vs] 0.51310964871132\n",
       "\\item[am] 0.53810381983577\n",
       "\\item[gear] 0.276683754274592\n",
       "\\end{description*}\n"
      ],
      "text/markdown": [
       "(Intercept)\n",
       ":   19.627425838868hp\n",
       ":   -0.00456997079075792I(hp^2)\n",
       ":   -1.07017440208752e-05cyl\n",
       ":   -0.192803463293539disp\n",
       ":   -0.00278006479495044drat\n",
       ":   0.529637337578209wt\n",
       ":   -0.386279350081461qsec\n",
       ":   0.0858906951641523vs\n",
       ":   0.51310964871132am\n",
       ":   0.53810381983577gear\n",
       ":   0.276683754274592\n",
       "\n"
      ],
      "text/plain": [
       "  (Intercept)            hp       I(hp^2)           cyl          disp \n",
       " 1.962743e+01 -4.569971e-03 -1.070174e-05 -1.928035e-01 -2.780065e-03 \n",
       "         drat            wt          qsec            vs            am \n",
       " 5.296373e-01 -3.862794e-01  8.589070e-02  5.131096e-01  5.381038e-01 \n",
       "         gear \n",
       " 2.766838e-01 "
      ]
     },
     "metadata": {},
     "output_type": "display_data"
    }
   ],
   "source": [
    "# Predictions\n",
    "predict(ridge_mod, s = 50, type =\"coefficients\")[1:11, ]"
   ]
  },
  {
   "cell_type": "code",
   "execution_count": 18,
   "metadata": {
    "vscode": {
     "languageId": "r"
    }
   },
   "outputs": [
    {
     "data": {
      "text/html": [
       "4.72425362080713"
      ],
      "text/latex": [
       "4.72425362080713"
      ],
      "text/markdown": [
       "4.72425362080713"
      ],
      "text/plain": [
       "[1] 4.724254"
      ]
     },
     "metadata": {},
     "output_type": "display_data"
    },
    {
     "data": {
      "text/html": [
       "39.0078125"
      ],
      "text/latex": [
       "39.0078125"
      ],
      "text/markdown": [
       "39.0078125"
      ],
      "text/plain": [
       "[1] 39.00781"
      ]
     },
     "metadata": {},
     "output_type": "display_data"
    },
    {
     "data": {
      "text/html": [
       "39.0078122038086"
      ],
      "text/latex": [
       "39.0078122038086"
      ],
      "text/markdown": [
       "39.0078122038086"
      ],
      "text/plain": [
       "[1] 39.00781"
      ]
     },
     "metadata": {},
     "output_type": "display_data"
    }
   ],
   "source": [
    "# Train/Test split\n",
    "set.seed (1)\n",
    "train <- sample (1: nrow(x), nrow(x)/2)\n",
    "test <- (-train)\n",
    "y_test <- y[test]\n",
    "\n",
    "ridge_mod <- glmnet(x[train, ], y[train], alpha = 0, lambda = grid, thresh = 1e-12)\n",
    "ridge_pred <- predict(ridge_mod, s = 4, newx = x[test, ])\n",
    "\n",
    "# Test: MSE\n",
    "mean((ridge_pred - y_test)^2)\n",
    "\n",
    "# Intercept Model: MSE\n",
    "mseNullModel <- mean(( mean(y[train ])-y_test)^2)\n",
    "mseNullModel\n",
    "\n",
    "# Test-MSE for very large penalization\n",
    "ridge_pred <- predict (ridge_mod , s= 1e10, newx = x[test, ])\n",
    "mean((ridge_pred - y_test)^2)\n"
   ]
  },
  {
   "cell_type": "code",
   "execution_count": 19,
   "metadata": {
    "vscode": {
     "languageId": "r"
    }
   },
   "outputs": [
    {
     "data": {
      "text/html": [
       "85.160261747751"
      ],
      "text/latex": [
       "85.160261747751"
      ],
      "text/markdown": [
       "85.160261747751"
      ],
      "text/plain": [
       "[1] 85.16026"
      ]
     },
     "metadata": {},
     "output_type": "display_data"
    },
    {
     "data": {
      "text/html": [
       "<style>\n",
       ".dl-inline {width: auto; margin:0; padding: 0}\n",
       ".dl-inline>dt, .dl-inline>dd {float: none; width: auto; display: inline-block}\n",
       ".dl-inline>dt::after {content: \":\\0020\"; padding-right: .5ex}\n",
       ".dl-inline>dt:not(:first-of-type) {padding-left: .5ex}\n",
       "</style><dl class=dl-inline><dt>(Intercept)</dt><dd>14.3909812244776</dd><dt>xhp</dt><dd>-0.41903757261616</dd><dt>xI(hp^2)</dt><dd>0.00100537890554035</dd><dt>xcyl</dt><dd>-2.06410172819487</dd><dt>xdisp</dt><dd>0.045050913841377</dd><dt>xdrat</dt><dd>-5.65480508741006</dd><dt>xwt</dt><dd>-0.970306651215182</dd><dt>xqsec</dt><dd>2.72348512545235</dd><dt>xvs</dt><dd>-5.78089110672196</dd><dt>xam</dt><dd>0.544017702552016</dd><dt>xgear</dt><dd>5.41812464521659</dd><dt>xcarb</dt><dd>0.9973190771629</dd></dl>\n"
      ],
      "text/latex": [
       "\\begin{description*}\n",
       "\\item[(Intercept)] 14.3909812244776\n",
       "\\item[xhp] -0.41903757261616\n",
       "\\item[xI(hp\\textbackslash{}textasciicircum\\{\\}2)] 0.00100537890554035\n",
       "\\item[xcyl] -2.06410172819487\n",
       "\\item[xdisp] 0.045050913841377\n",
       "\\item[xdrat] -5.65480508741006\n",
       "\\item[xwt] -0.970306651215182\n",
       "\\item[xqsec] 2.72348512545235\n",
       "\\item[xvs] -5.78089110672196\n",
       "\\item[xam] 0.544017702552016\n",
       "\\item[xgear] 5.41812464521659\n",
       "\\item[xcarb] 0.9973190771629\n",
       "\\end{description*}\n"
      ],
      "text/markdown": [
       "(Intercept)\n",
       ":   14.3909812244776xhp\n",
       ":   -0.41903757261616xI(hp^2)\n",
       ":   0.00100537890554035xcyl\n",
       ":   -2.06410172819487xdisp\n",
       ":   0.045050913841377xdrat\n",
       ":   -5.65480508741006xwt\n",
       ":   -0.970306651215182xqsec\n",
       ":   2.72348512545235xvs\n",
       ":   -5.78089110672196xam\n",
       ":   0.544017702552016xgear\n",
       ":   5.41812464521659xcarb\n",
       ":   0.9973190771629\n",
       "\n"
      ],
      "text/plain": [
       " (Intercept)          xhp     xI(hp^2)         xcyl        xdisp        xdrat \n",
       "14.390981224 -0.419037573  0.001005379 -2.064101728  0.045050914 -5.654805087 \n",
       "         xwt        xqsec          xvs          xam        xgear        xcarb \n",
       "-0.970306651  2.723485125 -5.780891107  0.544017703  5.418124645  0.997319077 "
      ]
     },
     "metadata": {},
     "output_type": "display_data"
    },
    {
     "data": {
      "text/html": [
       "<style>\n",
       ".dl-inline {width: auto; margin:0; padding: 0}\n",
       ".dl-inline>dt, .dl-inline>dd {float: none; width: auto; display: inline-block}\n",
       ".dl-inline>dt::after {content: \":\\0020\"; padding-right: .5ex}\n",
       ".dl-inline>dt:not(:first-of-type) {padding-left: .5ex}\n",
       "</style><dl class=dl-inline><dt>(Intercept)</dt><dd>14.3839259992538</dd><dt>hp</dt><dd>-0.418992543957602</dd><dt>I(hp^2)</dt><dd>0.00100526225293423</dd><dt>cyl</dt><dd>-2.06377351514371</dd><dt>disp</dt><dd>0.0450525641886985</dd><dt>drat</dt><dd>-5.65439591240315</dd><dt>wt</dt><dd>-0.971263757614184</dd><dt>qsec</dt><dd>2.72366106262324</dd><dt>vs</dt><dd>-5.78006324243617</dd><dt>am</dt><dd>0.544737320582587</dd><dt>gear</dt><dd>5.41767060472644</dd></dl>\n"
      ],
      "text/latex": [
       "\\begin{description*}\n",
       "\\item[(Intercept)] 14.3839259992538\n",
       "\\item[hp] -0.418992543957602\n",
       "\\item[I(hp\\textbackslash{}textasciicircum\\{\\}2)] 0.00100526225293423\n",
       "\\item[cyl] -2.06377351514371\n",
       "\\item[disp] 0.0450525641886985\n",
       "\\item[drat] -5.65439591240315\n",
       "\\item[wt] -0.971263757614184\n",
       "\\item[qsec] 2.72366106262324\n",
       "\\item[vs] -5.78006324243617\n",
       "\\item[am] 0.544737320582587\n",
       "\\item[gear] 5.41767060472644\n",
       "\\end{description*}\n"
      ],
      "text/markdown": [
       "(Intercept)\n",
       ":   14.3839259992538hp\n",
       ":   -0.418992543957602I(hp^2)\n",
       ":   0.00100526225293423cyl\n",
       ":   -2.06377351514371disp\n",
       ":   0.0450525641886985drat\n",
       ":   -5.65439591240315wt\n",
       ":   -0.971263757614184qsec\n",
       ":   2.72366106262324vs\n",
       ":   -5.78006324243617am\n",
       ":   0.544737320582587gear\n",
       ":   5.41767060472644\n",
       "\n"
      ],
      "text/plain": [
       " (Intercept)           hp      I(hp^2)          cyl         disp         drat \n",
       "14.383925999 -0.418992544  0.001005262 -2.063773515  0.045052564 -5.654395912 \n",
       "          wt         qsec           vs           am         gear \n",
       "-0.971263758  2.723661063 -5.780063242  0.544737321  5.417670605 "
      ]
     },
     "metadata": {},
     "output_type": "display_data"
    }
   ],
   "source": [
    "# Comparison with OLS regression:\n",
    "ridge_pred <- predict(ridge_mod, s = 0, newx = x[test, ], exact = TRUE, \n",
    "                      x = x[train, ], y = y[train])\n",
    "mseFullModel <- mean((ridge_pred - y_test)^2)\n",
    "mseFullModel\n",
    "lm(y ~ x, subset =train)$coefficients\n",
    "predict(ridge_mod, s = 0, exact = TRUE, x = x[train, ], \n",
    "        y = y[train], type = \"coefficients\")[1:11, ]"
   ]
  },
  {
   "cell_type": "code",
   "execution_count": 20,
   "metadata": {
    "vscode": {
     "languageId": "r"
    }
   },
   "outputs": [
    {
     "name": "stderr",
     "output_type": "stream",
     "text": [
      "Warning message:\n",
      "\"Option grouped=FALSE enforced in cv.glmnet, since < 3 observations per fold\"\n"
     ]
    },
    {
     "data": {
      "text/html": [
       "3.56935915492151"
      ],
      "text/latex": [
       "3.56935915492151"
      ],
      "text/markdown": [
       "3.56935915492151"
      ],
      "text/plain": [
       "[1] 3.569359"
      ]
     },
     "metadata": {},
     "output_type": "display_data"
    },
    {
     "data": {
      "text/html": [
       "4.87497942157406"
      ],
      "text/latex": [
       "4.87497942157406"
      ],
      "text/markdown": [
       "4.87497942157406"
      ],
      "text/plain": [
       "[1] 4.874979"
      ]
     },
     "metadata": {},
     "output_type": "display_data"
    },
    {
     "data": {
      "text/html": [
       "<style>\n",
       ".dl-inline {width: auto; margin:0; padding: 0}\n",
       ".dl-inline>dt, .dl-inline>dd {float: none; width: auto; display: inline-block}\n",
       ".dl-inline>dt::after {content: \":\\0020\"; padding-right: .5ex}\n",
       ".dl-inline>dt:not(:first-of-type) {padding-left: .5ex}\n",
       "</style><dl class=dl-inline><dt>(Intercept)</dt><dd>20.9157522853105</dd><dt>hp</dt><dd>-0.00947817079511874</dd><dt>I(hp^2)</dt><dd>-1.50751912901307e-05</dd><dt>cyl</dt><dd>-0.357099146571032</dd><dt>disp</dt><dd>-0.00502431816149892</dd><dt>drat</dt><dd>1.05701053940784</dd><dt>wt</dt><dd>-1.12972786538103</dd><dt>qsec</dt><dd>0.134812866856795</dd><dt>vs</dt><dd>0.804367096012128</dd><dt>am</dt><dd>1.55426058594882</dd><dt>gear</dt><dd>0.56777709652233</dd></dl>\n"
      ],
      "text/latex": [
       "\\begin{description*}\n",
       "\\item[(Intercept)] 20.9157522853105\n",
       "\\item[hp] -0.00947817079511874\n",
       "\\item[I(hp\\textbackslash{}textasciicircum\\{\\}2)] -1.50751912901307e-05\n",
       "\\item[cyl] -0.357099146571032\n",
       "\\item[disp] -0.00502431816149892\n",
       "\\item[drat] 1.05701053940784\n",
       "\\item[wt] -1.12972786538103\n",
       "\\item[qsec] 0.134812866856795\n",
       "\\item[vs] 0.804367096012128\n",
       "\\item[am] 1.55426058594882\n",
       "\\item[gear] 0.56777709652233\n",
       "\\end{description*}\n"
      ],
      "text/markdown": [
       "(Intercept)\n",
       ":   20.9157522853105hp\n",
       ":   -0.00947817079511874I(hp^2)\n",
       ":   -1.50751912901307e-05cyl\n",
       ":   -0.357099146571032disp\n",
       ":   -0.00502431816149892drat\n",
       ":   1.05701053940784wt\n",
       ":   -1.12972786538103qsec\n",
       ":   0.134812866856795vs\n",
       ":   0.804367096012128am\n",
       ":   1.55426058594882gear\n",
       ":   0.56777709652233\n",
       "\n"
      ],
      "text/plain": [
       "  (Intercept)            hp       I(hp^2)           cyl          disp \n",
       " 2.091575e+01 -9.478171e-03 -1.507519e-05 -3.570991e-01 -5.024318e-03 \n",
       "         drat            wt          qsec            vs            am \n",
       " 1.057011e+00 -1.129728e+00  1.348129e-01  8.043671e-01  1.554261e+00 \n",
       "         gear \n",
       " 5.677771e-01 "
      ]
     },
     "metadata": {},
     "output_type": "display_data"
    },
    {
     "data": {
      "image/png": "[encoded data removed]",
      "text/plain": [
       "plot without title"
      ]
     },
     "metadata": {
      "image/png": {
       "height": 420,
       "width": 420
      }
     },
     "output_type": "display_data"
    }
   ],
   "source": [
    "# 02b: Ridge CV: ---------------------------------------------------------------\n",
    "set.seed (1)\n",
    "cv_out <- cv.glmnet(x[train, ], y[train], alpha = 0)\n",
    "plot(cv_out)\n",
    "bestlam <- cv_out$lambda.min\n",
    "bestlam\n",
    "\n",
    "ridge_pred <- predict(ridge_mod, s = bestlam, newx = x[test, ])\n",
    "mseBestLam <- mean((ridge_pred - y_test)^2)\n",
    "mseBestLam\n",
    "\n",
    "out <- glmnet (x, y, alpha = 0)\n",
    "predict(out, type = \"coefficients\", s = bestlam )[1:11, ]"
   ]
  },
  {
   "cell_type": "code",
   "execution_count": 21,
   "metadata": {
    "vscode": {
     "languageId": "r"
    }
   },
   "outputs": [
    {
     "name": "stderr",
     "output_type": "stream",
     "text": [
      "Warning message in regularize.values(x, y, ties, missing(ties), na.rm = na.rm):\n",
      "\"collapsing to unique 'x' values\"\n"
     ]
    },
    {
     "data": {
      "image/png": "[encoded data removed]",
      "text/plain": [
       "plot without title"
      ]
     },
     "metadata": {
      "image/png": {
       "height": 420,
       "width": 420
      }
     },
     "output_type": "display_data"
    }
   ],
   "source": [
    "# 03: Lasso --------------------------------------------------------------------\n",
    "lasso_mod <- glmnet(x[train, ], y[train], alpha = 1,lambda = grid)\n",
    "plot(lasso_mod)"
   ]
  },
  {
   "cell_type": "code",
   "execution_count": 22,
   "metadata": {
    "vscode": {
     "languageId": "r"
    }
   },
   "outputs": [
    {
     "name": "stderr",
     "output_type": "stream",
     "text": [
      "Warning message:\n",
      "\"Option grouped=FALSE enforced in cv.glmnet, since < 3 observations per fold\"\n"
     ]
    },
    {
     "data": {
      "text/html": [
       "0.863830697802812"
      ],
      "text/latex": [
       "0.863830697802812"
      ],
      "text/markdown": [
       "0.863830697802812"
      ],
      "text/plain": [
       "[1] 0.8638307"
      ]
     },
     "metadata": {},
     "output_type": "display_data"
    },
    {
     "data": {
      "text/html": [
       "7.42621242643015"
      ],
      "text/latex": [
       "7.42621242643015"
      ],
      "text/markdown": [
       "7.42621242643015"
      ],
      "text/plain": [
       "[1] 7.426212"
      ]
     },
     "metadata": {},
     "output_type": "display_data"
    },
    {
     "data": {
      "text/html": [
       "<style>\n",
       ".dl-inline {width: auto; margin:0; padding: 0}\n",
       ".dl-inline>dt, .dl-inline>dd {float: none; width: auto; display: inline-block}\n",
       ".dl-inline>dt::after {content: \":\\0020\"; padding-right: .5ex}\n",
       ".dl-inline>dt:not(:first-of-type) {padding-left: .5ex}\n",
       "</style><dl class=dl-inline><dt>hp</dt><dd>-0.0111813305048296</dd><dt>I(hp^2)</dt><dd>0</dd><dt>cyl</dt><dd>-0.881123408494661</dd><dt>disp</dt><dd>0</dd><dt>drat</dt><dd>0</dd><dt>wt</dt><dd>-2.67265605335393</dd><dt>qsec</dt><dd>0</dd><dt>vs</dt><dd>0</dd><dt>am</dt><dd>0.000778546033328703</dd><dt>gear</dt><dd>0</dd></dl>\n"
      ],
      "text/latex": [
       "\\begin{description*}\n",
       "\\item[hp] -0.0111813305048296\n",
       "\\item[I(hp\\textbackslash{}textasciicircum\\{\\}2)] 0\n",
       "\\item[cyl] -0.881123408494661\n",
       "\\item[disp] 0\n",
       "\\item[drat] 0\n",
       "\\item[wt] -2.67265605335393\n",
       "\\item[qsec] 0\n",
       "\\item[vs] 0\n",
       "\\item[am] 0.000778546033328703\n",
       "\\item[gear] 0\n",
       "\\end{description*}\n"
      ],
      "text/markdown": [
       "hp\n",
       ":   -0.0111813305048296I(hp^2)\n",
       ":   0cyl\n",
       ":   -0.881123408494661disp\n",
       ":   0drat\n",
       ":   0wt\n",
       ":   -2.67265605335393qsec\n",
       ":   0vs\n",
       ":   0am\n",
       ":   0.000778546033328703gear\n",
       ":   0\n",
       "\n"
      ],
      "text/plain": [
       "          hp      I(hp^2)          cyl         disp         drat           wt \n",
       "-0.011181331  0.000000000 -0.881123408  0.000000000  0.000000000 -2.672656053 \n",
       "        qsec           vs           am         gear \n",
       " 0.000000000  0.000000000  0.000778546  0.000000000 "
      ]
     },
     "metadata": {},
     "output_type": "display_data"
    },
    {
     "data": {
      "image/png": "[encoded data removed]",
      "text/plain": [
       "plot without title"
      ]
     },
     "metadata": {
      "image/png": {
       "height": 420,
       "width": 420
      }
     },
     "output_type": "display_data"
    }
   ],
   "source": [
    "# 03b: Lasso CV: ---------------------------------------------------------------\n",
    "set.seed (1)\n",
    "cv_out <- cv.glmnet(x[train, ], y[train], alpha = 1)\n",
    "plot(cv_out)\n",
    "bestlam <- cv_out$lambda.min\n",
    "bestlam\n",
    "lasso.pred <- predict(lasso_mod, s = bestlam, newx = x[test, ])\n",
    "mean((lasso.pred - y_test)^2)\n",
    "\n",
    "out <- glmnet(x, y, alpha = 1, lambda = grid)\n",
    "lasso_coef <- predict(out, type = \"coefficients\", s = bestlam)[2:11, ]\n",
    "lasso_coef\n",
    "varLasso <- lasso_coef[lasso_coef !=0]"
   ]
  }
 ],
 "metadata": {
  "kernelspec": {
   "display_name": "R",
   "language": "R",
   "name": "ir"
  },
  "language_info": {
   "codemirror_mode": "r",
   "file_extension": ".r",
   "mimetype": "text/x-r-source",
   "name": "R",
   "pygments_lexer": "r",
   "version": "4.3.3"
  }
 },
 "nbformat": 4,
 "nbformat_minor": 2
}

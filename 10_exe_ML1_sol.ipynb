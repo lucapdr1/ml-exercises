{
 "cells": [
  {
   "cell_type": "code",
   "execution_count": 1,
   "metadata": {
    "vscode": {
     "languageId": "r"
    }
   },
   "outputs": [
    {
     "name": "stderr",
     "output_type": "stream",
     "text": [
      "Type 'citation(\"pROC\")' for a citation.\n",
      "\n",
      "\n",
      "Attaching package: 'pROC'\n",
      "\n",
      "\n",
      "The following objects are masked from 'package:stats':\n",
      "\n",
      "    cov, smooth, var\n",
      "\n",
      "\n"
     ]
    }
   ],
   "source": [
    "# check if packages can be loaded, i.e. they are already installed\n",
    "library(ISLR2) # contains data sets we might work with\n",
    "library(rpart) # package for tree fitting\n",
    "library(rpart.plot) # visualisation of tree structures\n",
    "library(pROC) # you should know what it is good for!"
   ]
  },
  {
   "cell_type": "markdown",
   "metadata": {},
   "source": [
    "2 Classification and regression trees (CART) with R"
   ]
  },
  {
   "cell_type": "markdown",
   "metadata": {},
   "source": [
    "2.1 Brexit referendum results"
   ]
  },
  {
   "cell_type": "code",
   "execution_count": 2,
   "metadata": {
    "vscode": {
     "languageId": "r"
    }
   },
   "outputs": [],
   "source": [
    "load(\"./Data/Brexit.Rda\")"
   ]
  },
  {
   "cell_type": "markdown",
   "metadata": {},
   "source": [
    "points from a) to f)"
   ]
  },
  {
   "cell_type": "code",
   "execution_count": 3,
   "metadata": {
    "vscode": {
     "languageId": "r"
    }
   },
   "outputs": [
    {
     "ename": "ERROR",
     "evalue": "Error in parse(text = x, srcfile = src): <text>:1:12: unexpected ')'\n1: require(???)\n               ^\n",
     "output_type": "error",
     "traceback": [
      "Error in parse(text = x, srcfile = src): <text>:1:12: unexpected ')'\n1: require(???)\n               ^\nTraceback:\n"
     ]
    }
   ],
   "source": [
    "require(???)\n",
    "# predicted probability of \"Leave\"\n",
    "predleavep <- predict(???, newdata=???, type = \"prob\")[,2]\n",
    "# ROC analysis\n",
    "roc.obj1 <- roc(???$Status, predleavep)\n",
    "ggroc(???)\n",
    "auc(???)"
   ]
  },
  {
   "cell_type": "markdown",
   "metadata": {},
   "source": [
    "2.2 Adjusting rpart parameters for unbalanced data"
   ]
  },
  {
   "cell_type": "markdown",
   "metadata": {},
   "source": [
    "Classification tree with no adjustment"
   ]
  },
  {
   "cell_type": "code",
   "execution_count": 5,
   "metadata": {
    "vscode": {
     "languageId": "r"
    }
   },
   "outputs": [],
   "source": [
    "load(\"./Data/Diabetes.Rda\")\n",
    "\n",
    "set.seed(50)\n",
    "n <- dim(Diabetes)[1]\n",
    "testidx <- sample(1:n, 2000)\n",
    "test <- Diabetes[testidx, ]\n",
    "train <- Diabetes[-testidx, ]\n"
   ]
  },
  {
   "cell_type": "markdown",
   "metadata": {},
   "source": [
    "Loss matrix"
   ]
  },
  {
   "cell_type": "code",
   "execution_count": 6,
   "metadata": {
    "vscode": {
     "languageId": "r"
    }
   },
   "outputs": [
    {
     "ename": "ERROR",
     "evalue": "Error in eval(expr, envir, enclos): object 'x' not found\n",
     "output_type": "error",
     "traceback": [
      "Error in eval(expr, envir, enclos): object 'x' not found\nTraceback:\n",
      "1. matrix(c(0, x, 1, 0), nrow = 2, ncol = 2)"
     ]
    }
   ],
   "source": [
    "lossmat <- matrix(c(0, x, 1, 0), nrow = 2, ncol = 2) # x will be set later, see below\n",
    "lossmat\n",
    "rptree <- rpart(YN ~ BMI + Age, data = train, parms = list(loss = lossmat))\n"
   ]
  },
  {
   "cell_type": "markdown",
   "metadata": {},
   "source": [
    "Priors"
   ]
  },
  {
   "cell_type": "code",
   "execution_count": 7,
   "metadata": {
    "vscode": {
     "languageId": "r"
    }
   },
   "outputs": [
    {
     "ename": "ERROR",
     "evalue": "Error in eval(expr, envir, enclos): object 'piNo' not found\n",
     "output_type": "error",
     "traceback": [
      "Error in eval(expr, envir, enclos): object 'piNo' not found\nTraceback:\n",
      "1. rpart(YN ~ BMI + Age, data = train, parms = list(prior = c(piNo, \n .     1 - piNo)))",
      "2. get(paste(\"rpart\", method, sep = \".\"), envir = environment())(Y, \n .     offset, parms, wt)"
     ]
    }
   ],
   "source": [
    "rptree <- rpart(YN ~ BMI + Age, data = train, parms = list(prior= c(piNo, 1 - piNo)))"
   ]
  },
  {
   "cell_type": "markdown",
   "metadata": {},
   "source": [
    "3 Bootstrap sampling"
   ]
  },
  {
   "cell_type": "markdown",
   "metadata": {},
   "source": [
    "3.1 Understanding bootstrap sampling"
   ]
  },
  {
   "cell_type": "code",
   "execution_count": 8,
   "metadata": {
    "vscode": {
     "languageId": "r"
    }
   },
   "outputs": [
    {
     "data": {
      "text/html": [
       "<style>\n",
       ".list-inline {list-style: none; margin:0; padding: 0}\n",
       ".list-inline>li {display: inline-block}\n",
       ".list-inline>li:not(:last-child)::after {content: \"\\00b7\"; padding: 0 .5ex}\n",
       "</style>\n",
       "<ol class=list-inline><li>8</li><li>2</li><li>3</li><li>3</li><li>3</li><li>7</li><li>2</li><li>10</li><li>9</li><li>3</li></ol>\n"
      ],
      "text/latex": [
       "\\begin{enumerate*}\n",
       "\\item 8\n",
       "\\item 2\n",
       "\\item 3\n",
       "\\item 3\n",
       "\\item 3\n",
       "\\item 7\n",
       "\\item 2\n",
       "\\item 10\n",
       "\\item 9\n",
       "\\item 3\n",
       "\\end{enumerate*}\n"
      ],
      "text/markdown": [
       "1. 8\n",
       "2. 2\n",
       "3. 3\n",
       "4. 3\n",
       "5. 3\n",
       "6. 7\n",
       "7. 2\n",
       "8. 10\n",
       "9. 9\n",
       "10. 3\n",
       "\n",
       "\n"
      ],
      "text/plain": [
       " [1]  8  2  3  3  3  7  2 10  9  3"
      ]
     },
     "metadata": {},
     "output_type": "display_data"
    },
    {
     "data": {
      "text/html": [
       "<style>\n",
       ".list-inline {list-style: none; margin:0; padding: 0}\n",
       ".list-inline>li {display: inline-block}\n",
       ".list-inline>li:not(:last-child)::after {content: \"\\00b7\"; padding: 0 .5ex}\n",
       "</style>\n",
       "<ol class=list-inline><li>2</li><li>2</li><li>3</li><li>3</li><li>3</li><li>3</li><li>7</li><li>8</li><li>9</li><li>10</li></ol>\n"
      ],
      "text/latex": [
       "\\begin{enumerate*}\n",
       "\\item 2\n",
       "\\item 2\n",
       "\\item 3\n",
       "\\item 3\n",
       "\\item 3\n",
       "\\item 3\n",
       "\\item 7\n",
       "\\item 8\n",
       "\\item 9\n",
       "\\item 10\n",
       "\\end{enumerate*}\n"
      ],
      "text/markdown": [
       "1. 2\n",
       "2. 2\n",
       "3. 3\n",
       "4. 3\n",
       "5. 3\n",
       "6. 3\n",
       "7. 7\n",
       "8. 8\n",
       "9. 9\n",
       "10. 10\n",
       "\n",
       "\n"
      ],
      "text/plain": [
       " [1]  2  2  3  3  3  3  7  8  9 10"
      ]
     },
     "metadata": {},
     "output_type": "display_data"
    },
    {
     "data": {
      "text/plain": [
       "bs_sample\n",
       " 2  3  7  8  9 10 \n",
       " 2  4  1  1  1  1 "
      ]
     },
     "metadata": {},
     "output_type": "display_data"
    },
    {
     "data": {
      "text/plain": [
       "\n",
       "1 2 4 \n",
       "4 1 1 "
      ]
     },
     "metadata": {},
     "output_type": "display_data"
    },
    {
     "data": {
      "text/html": [
       "6"
      ],
      "text/latex": [
       "6"
      ],
      "text/markdown": [
       "6"
      ],
      "text/plain": [
       "[1] 6"
      ]
     },
     "metadata": {},
     "output_type": "display_data"
    }
   ],
   "source": [
    "n <- 10\n",
    "vec <- 1:n\n",
    "bs_sample <- sample(vec, size = n, replace = TRUE)\n",
    "bs_sample\n",
    "sort(bs_sample)\n",
    "table(bs_sample)\n",
    "table(table(bs_sample))\n",
    "# number of unique values in the bootstrapped sample\n",
    "n_in_bag <- length(unique(bs_sample))\n",
    "n_in_bag\n",
    "# number of the out of bag values\n",
    "n_ooB <- n - n_in_bag"
   ]
  },
  {
   "cell_type": "code",
   "execution_count": 9,
   "metadata": {
    "vscode": {
     "languageId": "r"
    }
   },
   "outputs": [
    {
     "data": {
      "text/html": [
       "0.3656"
      ],
      "text/latex": [
       "0.3656"
      ],
      "text/markdown": [
       "0.3656"
      ],
      "text/plain": [
       "[1] 0.3656"
      ]
     },
     "metadata": {},
     "output_type": "display_data"
    },
    {
     "data": {
      "image/png": "[encoded data removed]",
      "text/plain": [
       "plot without title"
      ]
     },
     "metadata": {
      "image/png": {
       "height": 420,
       "width": 420
      }
     },
     "output_type": "display_data"
    }
   ],
   "source": [
    "n <- 100\n",
    "B <- 100\n",
    "p_ooB <- n_ooB <- rep(NA, B)\n",
    "for(i in 1:B){\n",
    "    vec <- 1:n\n",
    "    bs_sample <- sample(vec, size = n, replace = TRUE)\n",
    "    # number of the out of bag values\n",
    "    n_ooB[i] <- n - length(unique(bs_sample))\n",
    "\n",
    "    # proportion of out of bag values so far.\n",
    "    p_ooB[i] <- sum(n_ooB[1:i])/(i * n)\n",
    "}\n",
    "mean(n_ooB)/n\n",
    "plot(p_ooB, type=\"l\", ylim = c(0.3, 0.4))\n",
    "abline(h = c(1/3, exp(-1)), col = c(\"blue\", \"red\"), lty = 2)\n"
   ]
  },
  {
   "cell_type": "markdown",
   "metadata": {},
   "source": [
    "3.2 Bootstrapped estimates and intervalls"
   ]
  },
  {
   "cell_type": "code",
   "execution_count": 11,
   "metadata": {
    "vscode": {
     "languageId": "r"
    }
   },
   "outputs": [
    {
     "data": {
      "text/html": [
       "5.69254803496372"
      ],
      "text/latex": [
       "5.69254803496372"
      ],
      "text/markdown": [
       "5.69254803496372"
      ],
      "text/plain": [
       "[1] 5.692548"
      ]
     },
     "metadata": {},
     "output_type": "display_data"
    },
    {
     "data": {
      "text/html": [
       "27.4004431884263"
      ],
      "text/latex": [
       "27.4004431884263"
      ],
      "text/markdown": [
       "27.4004431884263"
      ],
      "text/plain": [
       "[1] 27.40044"
      ]
     },
     "metadata": {},
     "output_type": "display_data"
    },
    {
     "data": {
      "text/html": [
       "38.1000058332021"
      ],
      "text/latex": [
       "38.1000058332021"
      ],
      "text/markdown": [
       "38.1000058332021"
      ],
      "text/plain": [
       "[1] 38.10001"
      ]
     },
     "metadata": {},
     "output_type": "display_data"
    },
    {
     "data": {
      "image/png": "[encoded data removed]",
      "text/plain": [
       "Plot with title \"Histogram of main data\""
      ]
     },
     "metadata": {
      "image/png": {
       "height": 420,
       "width": 420
      }
     },
     "output_type": "display_data"
    },
    {
     "data": {
      "text/html": [
       "9.03028197751693"
      ],
      "text/latex": [
       "9.03028197751693"
      ],
      "text/markdown": [
       "9.03028197751693"
      ],
      "text/plain": [
       "[1] 9.030282"
      ]
     },
     "metadata": {},
     "output_type": "display_data"
    },
    {
     "data": {
      "text/html": [
       "<style>\n",
       ".dl-inline {width: auto; margin:0; padding: 0}\n",
       ".dl-inline>dt, .dl-inline>dd {float: none; width: auto; display: inline-block}\n",
       ".dl-inline>dt::after {content: \":\\0020\"; padding-right: .5ex}\n",
       ".dl-inline>dt:not(:first-of-type) {padding-left: .5ex}\n",
       "</style><dl class=dl-inline><dt>2.5%</dt><dd>12.7039918231996</dd><dt>97.5%</dt><dd>45.7613148325294</dd></dl>\n"
      ],
      "text/latex": [
       "\\begin{description*}\n",
       "\\item[2.5\\textbackslash{}\\%] 12.7039918231996\n",
       "\\item[97.5\\textbackslash{}\\%] 45.7613148325294\n",
       "\\end{description*}\n"
      ],
      "text/markdown": [
       "2.5%\n",
       ":   12.703991823199697.5%\n",
       ":   45.7613148325294\n",
       "\n"
      ],
      "text/plain": [
       "    2.5%    97.5% \n",
       "12.70399 45.76131 "
      ]
     },
     "metadata": {},
     "output_type": "display_data"
    },
    {
     "data": {
      "image/png": "[encoded data removed]",
      "text/plain": [
       "Plot with title \"Histogram of the bootstrapped variances\""
      ]
     },
     "metadata": {
      "image/png": {
       "height": 420,
       "width": 420
      }
     },
     "output_type": "display_data"
    }
   ],
   "source": [
    "n <- 75 # sample size\n",
    "lambda <- 0.2 # choose a parameter value somewhere between 0.01 to 0.05\n",
    "x <- rexp(n, lambda) # simulate the main data\n",
    "hist(x, breaks = 10, main = \"Histogram of main data\", xlab = \"x\")\n",
    "mean(x) # mean of the original sample\n",
    "var(x) # variance of the original sample\n",
    "# take one resample (length 75 with replacement)\n",
    "# and calculate the variance of the resample\n",
    "resample <- sample(x, n, replace = T)\n",
    "var(resample)\n",
    "\n",
    "B <- 100 # 100 Bootstrap resamples\n",
    "bsvar <- rep(NA, B)\n",
    "for(i in 1:B){\n",
    "    resample <- sample(x, n, replace = TRUE)\n",
    "    bsvar[i] <- var(resample) # store the resampled mean for this iteration\n",
    "}\n",
    "hist(bsvar, breaks = 15,\n",
    "main = \"Histogram of the bootstrapped variances\", xlab = \"var(x)\")\n",
    "sd(bsvar) # bootstrap estimate of the standard deviation of our estimator\n",
    "quantile(bsvar, c(0.025, 0.975)) # 95% Conf-Int\n",
    "#how do you get a 90% CI?\n",
    "#add the Conf-Int to the histogram\n",
    "abline(v = quantile(bsvar, c(0.025, 0.975)), col = 2)\n",
    "truevar <- 1/lambda^2\n",
    "abline(v = truevar, col = 4)"
   ]
  },
  {
   "cell_type": "markdown",
   "metadata": {},
   "source": [
    "4 Written Exercises"
   ]
  }
 ],
 "metadata": {
  "kernelspec": {
   "display_name": "R",
   "language": "R",
   "name": "ir"
  },
  "language_info": {
   "codemirror_mode": "r",
   "file_extension": ".r",
   "mimetype": "text/x-r-source",
   "name": "R",
   "pygments_lexer": "r",
   "version": "4.3.3"
  }
 },
 "nbformat": 4,
 "nbformat_minor": 2
}

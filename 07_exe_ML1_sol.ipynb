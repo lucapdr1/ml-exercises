{
 "cells": [
  {
   "cell_type": "code",
   "execution_count": 1,
   "metadata": {
    "vscode": {
     "languageId": "r"
    }
   },
   "outputs": [
    {
     "name": "stderr",
     "output_type": "stream",
     "text": [
      "corrplot 0.92 loaded\n",
      "\n",
      "Type 'citation(\"pROC\")' for a citation.\n",
      "\n",
      "\n",
      "Attaching package: 'pROC'\n",
      "\n",
      "\n",
      "The following objects are masked from 'package:stats':\n",
      "\n",
      "    cov, smooth, var\n",
      "\n",
      "\n"
     ]
    }
   ],
   "source": [
    "# check if packages can be loaded, i.e. they are already installed\n",
    "library(ISLR2) # for data sets\n",
    "library(corrplot)\n",
    "library(pROC)"
   ]
  },
  {
   "cell_type": "markdown",
   "metadata": {},
   "source": [
    "2 Classification"
   ]
  },
  {
   "cell_type": "markdown",
   "metadata": {},
   "source": [
    "2.1 Using logistic regression in R"
   ]
  },
  {
   "cell_type": "markdown",
   "metadata": {},
   "source": [
    "2.2 Classifier for Diabetes"
   ]
  },
  {
   "cell_type": "code",
   "execution_count": 2,
   "metadata": {
    "vscode": {
     "languageId": "r"
    }
   },
   "outputs": [],
   "source": [
    "#==============================================================================#\n",
    "# R code template Classification exercise: Diabetes                            #\n",
    "#==============================================================================#\n",
    "\n",
    "# 00: packages -----------------------------------------------------------------\n",
    "library(pROC)  # install package if necessary\n",
    "\n",
    "# 01: load data ----------------------------------------------------------------\n",
    "load(\"./Data/Diabetes.Rda\")  # ??? stands for \"path/Diabetes.Rda\""
   ]
  },
  {
   "cell_type": "code",
   "execution_count": 3,
   "metadata": {
    "vscode": {
     "languageId": "r"
    }
   },
   "outputs": [
    {
     "data": {
      "text/plain": [
       "\n",
       "  No  Yes \n",
       "7037  592 "
      ]
     },
     "metadata": {},
     "output_type": "display_data"
    }
   ],
   "source": [
    "# 02: explorative data analysis ------------------------------------------------\n",
    "# Answer parts (a) to (e) in the worksheet\n",
    "\n",
    "# 03: modeling -----------------------------------------------------------------\n",
    "\n",
    "# 03a: Train/Test Split ----\n",
    "# Split the data into a train/test with 2000 observations in the test data set\n",
    "set.seed(50)\n",
    "n <- dim(Diabetes)[1]\n",
    "testidx <- sample(n, 2000)\n",
    "test <- Diabetes[testidx, ]\n",
    "train <- Diabetes[-testidx, ]\n",
    "\n",
    "table(train$YN)"
   ]
  },
  {
   "cell_type": "code",
   "execution_count": 4,
   "metadata": {
    "vscode": {
     "languageId": "r"
    }
   },
   "outputs": [
    {
     "data": {
      "text/plain": [
       "\n",
       "Call:\n",
       "glm(formula = YN ~ BMI, family = \"binomial\", data = train)\n",
       "\n",
       "Coefficients:\n",
       "             Estimate Std. Error z value Pr(>|z|)    \n",
       "(Intercept) -5.236903   0.169735  -30.85   <2e-16 ***\n",
       "BMI          0.095288   0.005273   18.07   <2e-16 ***\n",
       "---\n",
       "Signif. codes:  0 '***' 0.001 '**' 0.01 '*' 0.05 '.' 0.1 ' ' 1\n",
       "\n",
       "(Dispersion parameter for binomial family taken to be 1)\n",
       "\n",
       "    Null deviance: 4163.4  on 7628  degrees of freedom\n",
       "Residual deviance: 3826.8  on 7627  degrees of freedom\n",
       "AIC: 3830.8\n",
       "\n",
       "Number of Fisher Scoring iterations: 5\n"
      ]
     },
     "metadata": {},
     "output_type": "display_data"
    },
    {
     "data": {
      "image/png": "[encoded data removed]",
      "text/plain": [
       "plot without title"
      ]
     },
     "metadata": {
      "image/png": {
       "height": 420,
       "width": 420
      }
     },
     "output_type": "display_data"
    }
   ],
   "source": [
    "# 03b: model training ----\n",
    "# Fit a logistic regression model and examine the model summary.\n",
    "glm.obj <- glm(YN ~ BMI, data = train, family = \"binomial\")\n",
    "summary(glm.obj)  #it looks as if higher BMI means diabetes is more likely  \n",
    "BMI.grid <- 10:82\n",
    "glm.pred <- predict(glm.obj, \n",
    "                    newdata = data.frame(BMI = BMI.grid), \n",
    "                    type=\"response\")\n",
    "plot(BMI.grid, glm.pred, type = \"l\", xlab=\"BMI\")"
   ]
  },
  {
   "cell_type": "code",
   "execution_count": 5,
   "metadata": {
    "vscode": {
     "languageId": "r"
    }
   },
   "outputs": [
    {
     "data": {
      "text/plain": [
       "HiRisk\n",
       "FALSE  TRUE \n",
       " 7604    25 "
      ]
     },
     "metadata": {},
     "output_type": "display_data"
    },
    {
     "name": "stdout",
     "output_type": "stream",
     "text": [
      "        predicted\n",
      "observed FALSE TRUE\n",
      "     No   7020   17\n",
      "     Yes   584    8\n"
     ]
    },
    {
     "data": {
      "text/html": [
       "0.921221654214183"
      ],
      "text/latex": [
       "0.921221654214183"
      ],
      "text/markdown": [
       "0.921221654214183"
      ],
      "text/plain": [
       "[1] 0.9212217"
      ]
     },
     "metadata": {},
     "output_type": "display_data"
    },
    {
     "data": {
      "text/html": [
       "0.997584197811567"
      ],
      "text/latex": [
       "0.997584197811567"
      ],
      "text/markdown": [
       "0.997584197811567"
      ],
      "text/plain": [
       "[1] 0.9975842"
      ]
     },
     "metadata": {},
     "output_type": "display_data"
    },
    {
     "data": {
      "text/html": [
       "0.0135135135135135"
      ],
      "text/latex": [
       "0.0135135135135135"
      ],
      "text/markdown": [
       "0.0135135135135135"
      ],
      "text/plain": [
       "[1] 0.01351351"
      ]
     },
     "metadata": {},
     "output_type": "display_data"
    }
   ],
   "source": [
    "# Question: does the logistic regression Diabetes = 'Yes' or Diabetes = 'No' as\n",
    "#           dependent variable? \n",
    "\n",
    "# 04: Assessment of Classification Quality -------------------------------------\n",
    "\n",
    "# 04a: Classification matrix ----\n",
    "\n",
    "# Define \"High Risk of Diabetes\" using a cut off of alpha=0.5 and construct\n",
    "# the classification matrix\n",
    "alpha <- 0.5 \n",
    "fit1 <- fitted(glm.obj)\n",
    "HiRisk <- fit1 > alpha\n",
    "table(HiRisk)\n",
    "tab <- table(train$YN, HiRisk, dnn = c(\"observed\", \"predicted\"))\n",
    "print(tab)\n",
    "\n",
    "# The following 3 commands calculate the sensitivity, specificity and accuracy.\n",
    "# Which is which?\n",
    "(tab[1, 1] + tab[2, 2])/sum(tab)\n",
    "tab[1, 1]/sum(tab[1, ])\n",
    "tab[2, 2]/sum(tab[2, ])"
   ]
  },
  {
   "cell_type": "code",
   "execution_count": 6,
   "metadata": {
    "vscode": {
     "languageId": "r"
    }
   },
   "outputs": [
    {
     "name": "stderr",
     "output_type": "stream",
     "text": [
      "Setting levels: control = No, case = Yes\n",
      "\n",
      "Setting direction: controls < cases\n",
      "\n",
      "You may need to call library(ggplot2) if you want to add layers, etc.\n",
      "\n",
      "Loading required namespace: ggplot2\n",
      "\n"
     ]
    },
    {
     "data": {
      "image/png": "[encoded data removed]",
      "text/plain": [
       "plot without title"
      ]
     },
     "metadata": {
      "image/png": {
       "height": 420,
       "width": 420
      }
     },
     "output_type": "display_data"
    },
    {
     "data": {
      "text/html": [
       "0.728132357346689"
      ],
      "text/latex": [
       "0.728132357346689"
      ],
      "text/markdown": [
       "0.728132357346689"
      ],
      "text/plain": [
       "Area under the curve: 0.7281"
      ]
     },
     "metadata": {},
     "output_type": "display_data"
    },
    {
     "data": {
      "text/html": [
       "1873"
      ],
      "text/latex": [
       "1873"
      ],
      "text/markdown": [
       "1873"
      ],
      "text/plain": [
       "[1] 1873"
      ]
     },
     "metadata": {},
     "output_type": "display_data"
    },
    {
     "data": {
      "text/html": [
       "0.500266165694299"
      ],
      "text/latex": [
       "0.500266165694299"
      ],
      "text/markdown": [
       "0.500266165694299"
      ],
      "text/plain": [
       "[1] 0.5002662"
      ]
     },
     "metadata": {},
     "output_type": "display_data"
    },
    {
     "data": {
      "text/html": [
       "0.0135135135135135"
      ],
      "text/latex": [
       "0.0135135135135135"
      ],
      "text/markdown": [
       "0.0135135135135135"
      ],
      "text/plain": [
       "[1] 0.01351351"
      ]
     },
     "metadata": {},
     "output_type": "display_data"
    },
    {
     "data": {
      "text/html": [
       "0.997584197811567"
      ],
      "text/latex": [
       "0.997584197811567"
      ],
      "text/markdown": [
       "0.997584197811567"
      ],
      "text/plain": [
       "[1] 0.9975842"
      ]
     },
     "metadata": {},
     "output_type": "display_data"
    },
    {
     "data": {
      "text/plain": [
       "        predicted\n",
       "observed FALSE TRUE\n",
       "     No   1840    3\n",
       "     Yes   155    2"
      ]
     },
     "metadata": {},
     "output_type": "display_data"
    },
    {
     "name": "stderr",
     "output_type": "stream",
     "text": [
      "Setting levels: control = No, case = Yes\n",
      "\n",
      "Setting direction: controls < cases\n",
      "\n"
     ]
    },
    {
     "data": {
      "image/png": "[encoded data removed]",
      "text/plain": [
       "plot without title"
      ]
     },
     "metadata": {
      "image/png": {
       "height": 420,
       "width": 420
      }
     },
     "output_type": "display_data"
    }
   ],
   "source": [
    "# 04b: ROC curve and AUC ----\n",
    "roc.obj1  <-  roc(train$YN, fit1)\n",
    "plot(roc.obj1)   # R base graphics\n",
    "ggroc(roc.obj1)  # ggplot graphics\n",
    "auc(roc.obj1)\n",
    "\n",
    "\n",
    "# roc produces a vector of thresholds (alpha), specificities and sensitivities.\n",
    "# find the index of the threshold nearest to alpha=0.5\n",
    "alpha <- 0.5 \n",
    "idx <- which.min(abs(roc.obj1$thresholds-alpha))\n",
    "idx\n",
    "\n",
    "roc.obj1$thresholds[idx]\n",
    "roc.obj1$sensitivities[idx]\n",
    "roc.obj1$specificities[idx]\n",
    "\n",
    "# do these values concur (fit) with your answers above?\n",
    "\n",
    "# 04c: out-of-sample goodness-of-fit -----\n",
    "# get the predicted probabilities for the test data\n",
    "ptest <-  predict(glm.obj, newdata = test, type = \"response\")\n",
    "\n",
    "# confusion matrix for the test data\n",
    "table(test$YN, ptest > alpha, dnn = c(\"observed\", \"predicted\"))\n",
    "test.roc.obj1  <-  roc(test$YN, ptest)"
   ]
  },
  {
   "cell_type": "code",
   "execution_count": 7,
   "metadata": {
    "vscode": {
     "languageId": "r"
    }
   },
   "outputs": [
    {
     "data": {
      "text/html": [
       "0.748837916578826"
      ],
      "text/latex": [
       "0.748837916578826"
      ],
      "text/markdown": [
       "0.748837916578826"
      ],
      "text/plain": [
       "Area under the curve: 0.7488"
      ]
     },
     "metadata": {},
     "output_type": "display_data"
    },
    {
     "data": {
      "image/png": "[encoded data removed]",
      "text/plain": [
       "plot without title"
      ]
     },
     "metadata": {
      "image/png": {
       "height": 420,
       "width": 420
      }
     },
     "output_type": "display_data"
    }
   ],
   "source": [
    "# ROC curve and AUC\n",
    "ggroc(list(train=roc.obj1, test=test.roc.obj1))\n",
    "auc(test.roc.obj1)\n"
   ]
  },
  {
   "cell_type": "code",
   "execution_count": 8,
   "metadata": {
    "vscode": {
     "languageId": "r"
    }
   },
   "outputs": [
    {
     "ename": "ERROR",
     "evalue": "Error in parse(text = x, srcfile = src): <text>:6:26: unexpected ','\n5: # 05a: Repeat the analysis done so far with variable 'Age'\n6: glm.obj2 <- glm(??? ~ ???,\n                            ^\n",
     "output_type": "error",
     "traceback": [
      "Error in parse(text = x, srcfile = src): <text>:6:26: unexpected ','\n5: # 05a: Repeat the analysis done so far with variable 'Age'\n6: glm.obj2 <- glm(??? ~ ???,\n                            ^\nTraceback:\n"
     ]
    }
   ],
   "source": [
    "# the training and test results are similar\n",
    "\n",
    "# 05: Further modeling ---------------------------------------------------------\n",
    "\n",
    "# 05a: Repeat the analysis done so far with variable 'Age'\n",
    "glm.obj2 <- glm(??? ~ ???, data=???, family=binomial)\n",
    "glm.obj2$coefficients  # it looks as if older means diabetes is more likely  \n",
    "ptest2 <-  predict(glm.obj2, newdata=test, type=\"response\")\n",
    "test.roc.obj2  <-  roc(???, ???)\n",
    "ggroc(list(\"BMI\"=test.roc.obj1, \"Age\"=test.roc.obj2))\n",
    "auc(roc.obj2)\n",
    "\n",
    "# 05b: repeat analyis with a model containing both BMI and Age \n",
    "glm.obj3 <- glm(???~???,data=???,family=binomial)\n",
    "\n",
    "# Add further comments and code ....\n",
    "# Have fun!\n",
    "\n",
    "\n",
    "\n",
    "\n"
   ]
  }
 ],
 "metadata": {
  "kernelspec": {
   "display_name": "R",
   "language": "R",
   "name": "ir"
  },
  "language_info": {
   "codemirror_mode": "r",
   "file_extension": ".r",
   "mimetype": "text/x-r-source",
   "name": "R",
   "pygments_lexer": "r",
   "version": "4.3.3"
  }
 },
 "nbformat": 4,
 "nbformat_minor": 2
}
